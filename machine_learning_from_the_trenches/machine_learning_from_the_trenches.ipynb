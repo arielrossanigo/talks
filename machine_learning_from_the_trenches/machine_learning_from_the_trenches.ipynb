{
 "cells": [
  {
   "cell_type": "markdown",
   "metadata": {
    "slideshow": {
     "slide_type": "slide"
    }
   },
   "source": [
    "# Machine Learning from the trenches\n",
    "\n",
    "\n",
    "\n",
    "\n",
    "\n",
    "\n",
    "\n",
    "\n",
    "\n",
    "**Ariel Rossanigo**"
   ]
  },
  {
   "cell_type": "markdown",
   "metadata": {
    "slideshow": {
     "slide_type": "slide"
    }
   },
   "source": [
    "### Quien soy?\n",
    "\n",
    "* Ariel Rossanigo\n",
    "* Profe de Inteligencia Artificial\n",
    "* Developer, Data Scientist\n",
    "\n"
   ]
  },
  {
   "cell_type": "markdown",
   "metadata": {
    "slideshow": {
     "slide_type": "slide"
    }
   },
   "source": [
    "### Objetivos de la charla"
   ]
  },
  {
   "cell_type": "markdown",
   "metadata": {
    "slideshow": {
     "slide_type": "slide"
    }
   },
   "source": [
    "### Arboles de decisión\n",
    "\n",
    "<center><img src=\"./decision_tree.png\" heigth=\"100%\"></center>\n"
   ]
  },
  {
   "cell_type": "markdown",
   "metadata": {
    "slideshow": {
     "slide_type": "slide"
    }
   },
   "source": [
    "### El problema a atacar\n",
    "\n",
    "<center><img src=\"./customer-churn.jpg\" width=\"800px\"></center>"
   ]
  },
  {
   "cell_type": "markdown",
   "metadata": {
    "slideshow": {
     "slide_type": "slide"
    }
   },
   "source": [
    "Aca nos pasamos a modo Jupyter "
   ]
  },
  {
   "cell_type": "code",
   "execution_count": null,
   "metadata": {
    "slideshow": {
     "slide_type": "-"
    }
   },
   "outputs": [],
   "source": [
    "%matplotlib inline\n",
    "import pandas as pd\n",
    "import numpy as np\n",
    "import seaborn as sns\n",
    "import matplotlib.pyplot as plt"
   ]
  },
  {
   "cell_type": "markdown",
   "metadata": {},
   "source": [
    "### Leemos el archivo y miramos un poco los datos"
   ]
  },
  {
   "cell_type": "code",
   "execution_count": null,
   "metadata": {},
   "outputs": [],
   "source": [
    "data = pd.read_csv('telecom_churn.csv')\n",
    "data.columns = data.columns.str.lower().str.replace('( )+', '_', regex=True)"
   ]
  },
  {
   "cell_type": "code",
   "execution_count": null,
   "metadata": {},
   "outputs": [],
   "source": [
    "data.shape"
   ]
  },
  {
   "cell_type": "code",
   "execution_count": null,
   "metadata": {},
   "outputs": [],
   "source": [
    "data.head(4)"
   ]
  },
  {
   "cell_type": "code",
   "execution_count": null,
   "metadata": {},
   "outputs": [],
   "source": [
    "data.churn.value_counts(normalize=True)"
   ]
  },
  {
   "cell_type": "code",
   "execution_count": null,
   "metadata": {},
   "outputs": [],
   "source": [
    "data.describe(include='all')"
   ]
  },
  {
   "cell_type": "markdown",
   "metadata": {},
   "source": [
    "### Separando conjuntos en train y test\n",
    "\n",
    "*Por qué?*\n"
   ]
  },
  {
   "cell_type": "code",
   "execution_count": null,
   "metadata": {},
   "outputs": [],
   "source": [
    "from sklearn.model_selection import train_test_split\n",
    "\n",
    "train, test = train_test_split(data, test_size=0.2, random_state=42)\n",
    "\n",
    "train.shape, test.shape"
   ]
  },
  {
   "cell_type": "markdown",
   "metadata": {},
   "source": [
    "### sklearn en una celda"
   ]
  },
  {
   "cell_type": "code",
   "execution_count": null,
   "metadata": {},
   "outputs": [],
   "source": [
    "from sklearn.tree import DecisionTreeClassifier\n",
    "from sklearn import metrics\n",
    "\n",
    "columnas = train.loc[:, 'number_vmail_messages':'customer_service_calls'].columns\n",
    "\n",
    "predictor = DecisionTreeClassifier(random_state=42)\n",
    "predictor.fit(train[columnas], train.churn)\n",
    "\n",
    "acc_train = metrics.accuracy_score(train.churn, predictor.predict(train[columnas]))\n",
    "acc_test = metrics.accuracy_score(test.churn, predictor.predict(test[columnas]))\n",
    "\n",
    "print(f\"El accuracy en train es {acc_train:.2%}\")\n",
    "print(f\"El accuracy en test es {acc_test:.2%}\")"
   ]
  },
  {
   "cell_type": "markdown",
   "metadata": {},
   "source": [
    "### Uso de pipelines y DataFrameMapper"
   ]
  },
  {
   "cell_type": "code",
   "execution_count": null,
   "metadata": {},
   "outputs": [],
   "source": [
    "from sklearn_pandas import DataFrameMapper\n",
    "from sklearn.pipeline import Pipeline\n",
    "\n",
    "pipeline = Pipeline(steps=[\n",
    "    ('features', DataFrameMapper([\n",
    "        (columnas, None)\n",
    "    ])),\n",
    "    ('predictor', DecisionTreeClassifier(random_state=42))\n",
    "])\n",
    "\n",
    "# predictor.fit(train[columnas], train.churn)\n",
    "pipeline.fit(train, train.churn)\n",
    "\n",
    "# acc_train = metrics.accuracy_score(train.churn, predictor.predict(train[columnas]))\n",
    "# acc_test = metrics.accuracy_score(test.churn, predictor.predict(test[columnas]))\n",
    "acc_train = metrics.accuracy_score(train.churn, pipeline.predict(train))\n",
    "acc_test = metrics.accuracy_score(test.churn, pipeline.predict(test))\n",
    "\n",
    "print(f\"El accuracy en train es {acc_train:.2%}\")\n",
    "print(f\"El accuracy en test es {acc_test:.2%}\")"
   ]
  },
  {
   "cell_type": "markdown",
   "metadata": {},
   "source": [
    "### Mejor escribimos una función para mostrar las métricas\n"
   ]
  },
  {
   "cell_type": "code",
   "execution_count": null,
   "metadata": {},
   "outputs": [],
   "source": [
    "def show_metrics(model, train, test):    \n",
    "    fig, axis = plt.subplots(1, 2, figsize=(15, 3))\n",
    "    \n",
    "    for (name, ds), ax in zip([('Train', train), ('Test ', test)], axis):\n",
    "        y_true = ds.churn\n",
    "        y_pred = model.predict(ds)\n",
    "        accuracy = metrics.accuracy_score(y_true, y_pred) \n",
    "        precision = metrics.precision_score(y_true, y_pred) \n",
    "        recall = metrics.recall_score(y_true, y_pred) \n",
    "        f1_score = metrics.f1_score(y_true, y_pred) \n",
    "        print(f\"{name} ## Accuracy: {accuracy:7.2%} Precision: {precision:7.2%} \"\n",
    "              f\" Recall: {recall:7.2%} F1-score: {f1_score:7.2%}\")\n",
    "        sns.heatmap(metrics.confusion_matrix(y_true, y_pred), \n",
    "                    cbar=False, cmap='Greens', annot=True, fmt='d', ax=ax)\n",
    "        ax.set_title(f'CM {name}')\n",
    "        ax.set_ylabel('Real')\n",
    "        ax.set_xlabel('Predicho')\n",
    "        ax.set_xticklabels(['No churn', 'Churn'])\n",
    "        ax.set_yticklabels(['No churn', 'Churn'])"
   ]
  },
  {
   "cell_type": "code",
   "execution_count": null,
   "metadata": {},
   "outputs": [],
   "source": [
    "show_metrics(pipeline, train, test)"
   ]
  },
  {
   "cell_type": "markdown",
   "metadata": {},
   "source": [
    "### 2 Problemas: Overfitting\n",
    "\n",
    "<center><img src=\"./overfitting.jpg\" width=\"500px\"></center>"
   ]
  },
  {
   "cell_type": "code",
   "execution_count": null,
   "metadata": {},
   "outputs": [],
   "source": [
    "pipeline = Pipeline(steps=[\n",
    "    ('features', DataFrameMapper([\n",
    "        (columnas, None)\n",
    "    ])),\n",
    "    ('predictor', DecisionTreeClassifier(max_depth=4, random_state=42))\n",
    "])\n",
    "\n",
    "pipeline.fit(train, train.churn)\n",
    "show_metrics(pipeline, train, test)"
   ]
  },
  {
   "cell_type": "markdown",
   "metadata": {},
   "source": [
    "### 2 Problemas: Clases desbalanceadas\n",
    "\n",
    "<center><img src=\"./unbalance.png\" width=\"400px\"></center>"
   ]
  },
  {
   "cell_type": "code",
   "execution_count": null,
   "metadata": {},
   "outputs": [],
   "source": [
    "pipeline = Pipeline(steps=[\n",
    "    ('features', DataFrameMapper([\n",
    "        (columnas, None)\n",
    "    ])),\n",
    "    ('predictor', DecisionTreeClassifier(max_depth=4, class_weight='balanced', random_state=42))\n",
    "])\n",
    "\n",
    "pipeline.fit(train, train.churn)\n",
    "show_metrics(pipeline, train, test)"
   ]
  },
  {
   "cell_type": "markdown",
   "metadata": {},
   "source": [
    "### ¿Todos entienden las métricas? \n",
    "\n",
    "<center><img src=\"./misunderstandings.jpg\" width=\"400px\"></center>"
   ]
  },
  {
   "cell_type": "code",
   "execution_count": null,
   "metadata": {},
   "outputs": [],
   "source": [
    "fig, axis = plt.subplots(1, 2, figsize=(15, 3))\n",
    "for (name, ds), ax in zip([('Train', train), ('Test ', test)], axis):\n",
    "    y_true = ds.churn\n",
    "    y_prob = pipeline.predict_proba(ds)[:, 1]\n",
    "    ax.set_title(name)\n",
    "    df = pd.DataFrame({'y_true': y_true, 'y_prob': y_prob})\n",
    "    df_sorted = df.sort_values(by='y_prob', ascending=False)\n",
    "    df_sorted.y_true.cumsum().reset_index(drop=True).plot.line(ax=ax, grid=True)"
   ]
  },
  {
   "cell_type": "code",
   "execution_count": null,
   "metadata": {},
   "outputs": [],
   "source": [
    "def show_metrics(model, train, test, desired_recall=0.7, total_true=483):    \n",
    "    fig, axis = plt.subplots(1, 2, figsize=(15, 3))\n",
    "    \n",
    "    for (name, ds), ax in zip([('Train', train), ('Test ', test)], axis):\n",
    "        y_true = ds.churn\n",
    "        y_pred = model.predict(ds)\n",
    "        accuracy = metrics.accuracy_score(y_true, y_pred) \n",
    "        precision = metrics.precision_score(y_true, y_pred) \n",
    "        recall = metrics.recall_score(y_true, y_pred) \n",
    "        f1_score = metrics.f1_score(y_true, y_pred) \n",
    "        \n",
    "        true_wanted = y_true.sum() * desired_recall       \n",
    "        y_prob = pipeline.predict_proba(ds)[:, 1]\n",
    "        df = pd.DataFrame({'y_true': y_true, 'y_prob': y_prob})\n",
    "        df_sorted = df.sort_values(by='y_prob', ascending=False)\n",
    "        df['found_so_far'] = df_sorted.y_true.cumsum()\n",
    "        prec_at_recall = df.loc[df.found_so_far <= true_wanted, 'y_true'].mean()\n",
    "        churns_to_find = int(total_true * desired_recall)\n",
    "        report_size = int(churns_to_find / prec_at_recall)\n",
    "\n",
    "        print(f\"{name} ## Precision: {precision:6.2%} Recall: {recall:6.2%} F1-score: {f1_score:6.2%}\")\n",
    "        sns.heatmap(metrics.confusion_matrix(y_true, y_pred), \n",
    "                    cbar=False, cmap='Greens', annot=True, fmt='d', ax=ax)\n",
    "        ax.set_title(f'CM {name}')\n",
    "        ax.set_ylabel('Real')\n",
    "        ax.set_xlabel('Predicho')\n",
    "        ax.set_xticklabels(['No churn', 'Churn'])\n",
    "        ax.set_yticklabels(['No churn', 'Churn'])\n",
    "        \n",
    "    true_wanted = y_true.sum() * desired_recall       \n",
    "    y_prob = pipeline.predict_proba(ds)[:, 1]\n",
    "    df = pd.DataFrame({'y_true': y_true, 'y_prob': y_prob})\n",
    "    df_sorted = df.sort_values(by='y_prob', ascending=False)\n",
    "    df['found_so_far'] = df_sorted.y_true.cumsum()\n",
    "    prec_at_recall = df.loc[df.found_so_far <= true_wanted, 'y_true'].mean()\n",
    "    churns_to_find = int(total_true * desired_recall)\n",
    "    report_size = int(churns_to_find / prec_at_recall)\n",
    "    print(f\"{name} ## Report size to find {churns_to_find:d} of {total_true:d} churns: {report_size:d}\")"
   ]
  },
  {
   "cell_type": "code",
   "execution_count": null,
   "metadata": {},
   "outputs": [],
   "source": [
    "show_metrics(pipeline, train, test, desired_recall=0.7)"
   ]
  },
  {
   "cell_type": "markdown",
   "metadata": {},
   "source": [
    "### Quedaba más información..."
   ]
  },
  {
   "cell_type": "code",
   "execution_count": null,
   "metadata": {},
   "outputs": [],
   "source": [
    "train[[x for x in train.columns if x not in columnas]].head()"
   ]
  },
  {
   "cell_type": "code",
   "execution_count": null,
   "metadata": {},
   "outputs": [],
   "source": [
    "from sklearn.preprocessing import FunctionTransformer"
   ]
  },
  {
   "cell_type": "code",
   "execution_count": null,
   "metadata": {},
   "outputs": [],
   "source": [
    "def yes_no_to_boolean(x):\n",
    "    return x == 'Yes'\n",
    "\n",
    "pipeline = Pipeline(steps=[\n",
    "    ('features', DataFrameMapper(\n",
    "        [(c, None) for c in columnas] + [\n",
    "        ('international_plan', FunctionTransformer(yes_no_to_boolean, validate=False)),\n",
    "        ('voice_mail_plan', FunctionTransformer(yes_no_to_boolean, validate=False)),\n",
    "        ('account_length', None),\n",
    "    ])),\n",
    "    ('predictor', DecisionTreeClassifier(max_depth=6, class_weight='balanced', random_state=42))\n",
    "])\n",
    "\n",
    "\n",
    "pipeline.fit(train, train.churn)\n",
    "show_metrics(pipeline, train, test)"
   ]
  },
  {
   "cell_type": "markdown",
   "metadata": {},
   "source": [
    "### Como decide?"
   ]
  },
  {
   "cell_type": "code",
   "execution_count": null,
   "metadata": {},
   "outputs": [],
   "source": [
    "from dtreeviz.trees import *"
   ]
  },
  {
   "cell_type": "code",
   "execution_count": null,
   "metadata": {},
   "outputs": [],
   "source": [
    "X = pipeline.steps[0][1].transform(train)\n",
    "predictor = pipeline.steps[1][1]\n",
    "names = pipeline.steps[0][1].transformed_names_\n",
    "viz = dtreeviz(predictor, X, train.churn, target_name='churn', feature_names=names, \n",
    "               class_names=['No Churn', 'Churn'])\n",
    "viz.view()"
   ]
  },
  {
   "cell_type": "markdown",
   "metadata": {},
   "source": [
    "Un solo ejemplo"
   ]
  },
  {
   "cell_type": "code",
   "execution_count": null,
   "metadata": {},
   "outputs": [],
   "source": [
    "X = pipeline.steps[0][1].transform(train)\n",
    "predictor = pipeline.steps[1][1]\n",
    "names = pipeline.steps[0][1].transformed_names_\n",
    "viz = dtreeviz(predictor, X_train=X, y_train=train.churn, target_name='churn', feature_names=names, \n",
    "               class_names=['No Churn', 'Churn'], \n",
    "               X=X[0])\n",
    "viz.view()"
   ]
  },
  {
   "cell_type": "markdown",
   "metadata": {},
   "source": [
    "### Algo que funciona mejor... Ensembles\n",
    "\n",
    "<center><img src=\"./ensemble.jpg\" width=\"400px\"></center>"
   ]
  },
  {
   "cell_type": "code",
   "execution_count": null,
   "metadata": {},
   "outputs": [],
   "source": [
    "from xgboost import XGBClassifier"
   ]
  },
  {
   "cell_type": "code",
   "execution_count": null,
   "metadata": {},
   "outputs": [],
   "source": [
    "pipeline = Pipeline(steps=[\n",
    "    ('features', DataFrameMapper(\n",
    "        [(c, None) for c in columnas] + [\n",
    "        ('international_plan', FunctionTransformer(yes_no_to_boolean, validate=False)),\n",
    "        ('voice_mail_plan', FunctionTransformer(yes_no_to_boolean, validate=False)),\n",
    "        ('account_length', None),\n",
    "    ])),\n",
    "    ('predictor', XGBClassifier(max_depth=5, random_state=42))\n",
    "])\n",
    "\n",
    "c = train.churn.value_counts()\n",
    "class_weight = c.min() / c\n",
    "sample_weight = train.churn.map(class_weight)\n",
    "\n",
    "pipeline.fit(train, train.churn, predictor__sample_weight=sample_weight.values)\n",
    "show_metrics(pipeline, train, test)"
   ]
  },
  {
   "cell_type": "markdown",
   "metadata": {
    "slideshow": {
     "slide_type": "slide"
    }
   },
   "source": [
    "### Gracias! Preguntas?\n",
    "\n",
    "\n",
    "<div style=\"float: left;\"><img src=\"../common/imgs/man-qmark.jpg\" width=\"300\" align=\"middle\"></div> \n",
    "\n",
    "<div>\n",
    "<div>\n",
    "  <img src=\"../common/imgs/gmail-1162901_960_720.png\" style=\"width: 30px; float: left; vertical-align:middle; margin: 0px;\">\n",
    "  <span style=\"line-height:30px; vertical-align:middle; margin-left: 10px;\">arielrossanigo@gmail.com</span>\n",
    "</div>\n",
    "<div>\n",
    "  <img src=\"../common/imgs/twitter-312464_960_720.png\" style=\"width: 30px; float: left; vertical-align:middle; margin: 0px;\">\n",
    "  <span style=\"line-height:30px; vertical-align:middle; margin-left: 10px;\">@arielrossanigo</span>\n",
    "</div>\n",
    "<div>\n",
    "  <img src=\"../common/imgs/github-154769__340.png\" style=\"width: 30px; float: left; vertical-align:middle; margin: 0px;\">\n",
    "  <span style=\"line-height:30px; vertical-align:middle; margin-left: 10px;\">https://github.com/arielrossanigo</span>\n",
    "</div>\n",
    "<div>\n",
    "  <img src=\"../common/imgs/Linkedin_icon.svg\" style=\"width: 30px; float: left; vertical-align:middle; margin: 0px;\">\n",
    "  <span style=\"line-height:30px; vertical-align:middle; margin-left: 10px;\">https://www.linkedin.com/in/arielrossanigo/</span>\n",
    "</div>\n",
    "\n",
    "</div>"
   ]
  }
 ],
 "metadata": {
  "celltoolbar": "Slideshow",
  "kernelspec": {
   "display_name": "Python 3",
   "language": "python",
   "name": "python3"
  },
  "language_info": {
   "codemirror_mode": {
    "name": "ipython",
    "version": 3
   },
   "file_extension": ".py",
   "mimetype": "text/x-python",
   "name": "python",
   "nbconvert_exporter": "python",
   "pygments_lexer": "ipython3",
   "version": "3.6.7"
  }
 },
 "nbformat": 4,
 "nbformat_minor": 2
}
