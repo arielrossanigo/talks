{
 "cells": [
  {
   "cell_type": "markdown",
   "metadata": {
    "slideshow": {
     "slide_type": "slide"
    }
   },
   "source": [
    "# Reconociendo caracteres con Python. \n",
    "*y otras yerbas...*\n",
    "\n",
    "\n",
    "\n",
    "\n",
    "\n",
    "\n",
    "\n",
    "\n",
    "**Ariel Rossanigo**"
   ]
  },
  {
   "cell_type": "markdown",
   "metadata": {
    "slideshow": {
     "slide_type": "slide"
    }
   },
   "source": [
    "### Objetivos de la charla\n",
    "\n",
    "* Mostrar algunas librerias copadas \n",
    "* Hablar de *Machine learning* (es un tema que me gusta)\n",
    "* Ver como en pocas líneas de código hacemos un OCR de números\n"
   ]
  },
  {
   "cell_type": "code",
   "execution_count": null,
   "metadata": {
    "collapsed": false,
    "slideshow": {
     "slide_type": "fragment"
    }
   },
   "outputs": [],
   "source": [
    "%matplotlib tk\n",
    "\n",
    "import matplotlib.pylab as plt\n",
    "from example import process_image\n",
    "ani = process_image()\n",
    "plt.show()"
   ]
  },
  {
   "cell_type": "markdown",
   "metadata": {
    "collapsed": false,
    "slideshow": {
     "slide_type": "slide"
    }
   },
   "source": [
    "### ¿Cómo logramos esto?"
   ]
  },
  {
   "cell_type": "code",
   "execution_count": null,
   "metadata": {
    "collapsed": false,
    "slideshow": {
     "slide_type": "subslide"
    }
   },
   "outputs": [],
   "source": [
    "# %load example.py\n",
    "from utils import make_animation\n",
    "from image_processing import get_image\n",
    "import matplotlib.pylab as plt\n",
    "\n",
    "def get_digits_fake(img):\n",
    "    h, w = img.shape\n",
    "    for c in range(h//28):\n",
    "        for r in range(w//28):\n",
    "            s = (slice(28*c, 28*(c+1), None), slice(28*r, 28*(r+1), None))\n",
    "            digit = img[s]\n",
    "            yield digit, s\n",
    "\n",
    "def process_image():\n",
    "    numbers = list(map(int, open('numbers.txt').read().split(' ')))\n",
    "    o, _ = get_image('numbers.png')\n",
    "    slices = [(s, 'green', n) for ((_, s), n) in zip(get_digits_fake(o), numbers)]\n",
    "    ani = make_animation(o, slices, 300)\n",
    "    plt.show()\n"
   ]
  },
  {
   "cell_type": "markdown",
   "metadata": {
    "collapsed": false,
    "slideshow": {
     "slide_type": "fragment"
    }
   },
   "source": [
    "Si... es broma... \n"
   ]
  },
  {
   "cell_type": "markdown",
   "metadata": {
    "collapsed": true,
    "slideshow": {
     "slide_type": "slide"
    }
   },
   "source": [
    "### ¿Cómo logramos esto?\n",
    "\n",
    "* Por un lado, hay que reconocer las distintas partes de la imagen\n",
    "* Por otro lado, tenemos que programar una función que relacione pixeles con números"
   ]
  },
  {
   "cell_type": "markdown",
   "metadata": {
    "slideshow": {
     "slide_type": "slide"
    }
   },
   "source": [
    "## OpenCV\n",
    "\n",
    "* Open Source Computer Vision Library\n",
    "* Computer Vision + Machine Learning\n",
    "* más de 2500 algoritmos optimizados, escritos en **C++**"
   ]
  },
  {
   "cell_type": "markdown",
   "metadata": {
    "slideshow": {
     "slide_type": "fragment"
    }
   },
   "source": [
    "* pero tiene interfaz para **Python**\n",
    "* también se puede usar en C, Java y MATLAB\n",
    "* corre en Windows, Linux, Android y Mac"
   ]
  },
  {
   "cell_type": "markdown",
   "metadata": {
    "slideshow": {
     "slide_type": "slide"
    }
   },
   "source": [
    "### Abriendo una imagen y aplicándo filtros."
   ]
  },
  {
   "cell_type": "code",
   "execution_count": null,
   "metadata": {
    "collapsed": false,
    "scrolled": true,
    "slideshow": {
     "slide_type": "subslide"
    }
   },
   "outputs": [],
   "source": [
    "%matplotlib inline\n",
    "\n",
    "import cv2\n",
    "import numpy as np\n",
    "from utils import show_images\n",
    "\n",
    "\n",
    "img = cv2.imread('numbers.png', False)\n",
    "\n",
    "original = img.copy()\n",
    "blur = cv2.GaussianBlur(img, (15, 15), 0)\n",
    "thresh = cv2.adaptiveThreshold(blur, 255, adaptiveMethod=cv2.ADAPTIVE_THRESH_MEAN_C,\n",
    "                               thresholdType=cv2.THRESH_BINARY, blockSize=3, C=1)\n"
   ]
  },
  {
   "cell_type": "code",
   "execution_count": null,
   "metadata": {
    "collapsed": false,
    "slideshow": {
     "slide_type": "subslide"
    }
   },
   "outputs": [],
   "source": [
    "show_images([original])"
   ]
  },
  {
   "cell_type": "code",
   "execution_count": null,
   "metadata": {
    "collapsed": false,
    "slideshow": {
     "slide_type": "subslide"
    }
   },
   "outputs": [],
   "source": [
    "show_images([blur])"
   ]
  },
  {
   "cell_type": "code",
   "execution_count": null,
   "metadata": {
    "collapsed": false,
    "slideshow": {
     "slide_type": "subslide"
    }
   },
   "outputs": [],
   "source": [
    "show_images([thresh])"
   ]
  },
  {
   "cell_type": "markdown",
   "metadata": {
    "slideshow": {
     "slide_type": "slide"
    }
   },
   "source": [
    "### Buscando renglones y characteres\n",
    "\n",
    "* Tenemos una función que nos  deja buscar contornos..."
   ]
  },
  {
   "cell_type": "code",
   "execution_count": null,
   "metadata": {
    "collapsed": false
   },
   "outputs": [],
   "source": [
    "chiquita = 255 - original[0:56, 0:56]\n",
    "nueva, contornos, _ = cv2.findContours(chiquita.copy(),cv2.RETR_TREE,cv2.CHAIN_APPROX_SIMPLE)\n",
    "show_images([chiquita, nueva], columns=2)"
   ]
  },
  {
   "cell_type": "markdown",
   "metadata": {
    "slideshow": {
     "slide_type": "subslide"
    }
   },
   "source": [
    "* Tenemos otra función que nos deja encerrar un contorno con un rectángulo"
   ]
  },
  {
   "cell_type": "code",
   "execution_count": null,
   "metadata": {
    "collapsed": false
   },
   "outputs": [],
   "source": [
    "for contorno in contornos:\n",
    "    p = cv2.boundingRect(contorno)\n",
    "    print(\"x: {:3d} y: {:3d} w: {:3d} h: {:3d}\".format(*p))"
   ]
  },
  {
   "cell_type": "markdown",
   "metadata": {
    "slideshow": {
     "slide_type": "slide"
    }
   },
   "source": [
    "### ¿Cómo podemos hacer para encontrar solo un renglón?"
   ]
  },
  {
   "cell_type": "code",
   "execution_count": null,
   "metadata": {
    "collapsed": false
   },
   "outputs": [],
   "source": [
    "h, w = chiquita.shape\n",
    "\n",
    "lineas = cv2.morphologyEx(255 - chiquita, cv2.MORPH_OPEN,  np.ones((1, w)))\n",
    "nueva, contornos, _ = cv2.findContours(255-lineas.copy(),cv2.RETR_TREE,cv2.CHAIN_APPROX_SIMPLE)\n",
    "\n",
    "show_images([chiquita, lineas, nueva], columns=3)\n",
    "for contorno in contornos:\n",
    "    p = cv2.boundingRect(contorno)\n",
    "    print(\"x: {:3d} y: {:3d} w: {:3d} h: {:3d}\".format(*p))"
   ]
  },
  {
   "cell_type": "code",
   "execution_count": null,
   "metadata": {
    "collapsed": false,
    "slideshow": {
     "slide_type": "subslide"
    }
   },
   "outputs": [],
   "source": [
    "contorno = contornos[0]\n",
    "xr, yr, wr, hr = cv2.boundingRect(contorno)\n",
    "renglon = cv2.morphologyEx(255 - chiquita[yr:yr+hr, xr:xr+wr], cv2.MORPH_OPEN,  np.ones((7, 10)))\n",
    "nueva, contornos, _ = cv2.findContours(255-renglon.copy(),cv2.RETR_TREE,cv2.CHAIN_APPROX_SIMPLE)\n",
    "show_images([chiquita, renglon, nueva], columns=3)"
   ]
  },
  {
   "cell_type": "code",
   "execution_count": null,
   "metadata": {
    "collapsed": false,
    "slideshow": {
     "slide_type": "subslide"
    }
   },
   "outputs": [],
   "source": [
    "caracteres = []\n",
    "for contorno in contornos:\n",
    "    x, y, w, h = cv2.boundingRect(contorno)\n",
    "    if w > 5 and h > 15:\n",
    "        caracteres.append(255 - chiquita[y+yr:y+yr+h, x:x+w])\n",
    "    \n",
    "show_images(caracteres)"
   ]
  },
  {
   "cell_type": "markdown",
   "metadata": {
    "slideshow": {
     "slide_type": "slide"
    }
   },
   "source": [
    "### Terminando...\n",
    "\n",
    "* queremos imagenes de 28x28"
   ]
  },
  {
   "cell_type": "code",
   "execution_count": null,
   "metadata": {
    "collapsed": false
   },
   "outputs": [],
   "source": [
    "from image_processing import centered_slice\n",
    "\n",
    "caracter = caracteres[1]\n",
    "h, w = caracter.shape\n",
    "m = max(h, w)\n",
    "quad = np.ones((m, m), dtype=np.uint8) * 255\n",
    "quad[centered_slice(h, m), centered_slice(w, m)] = caracter\n",
    "caracter_final = cv2.resize(quad, (28, 28))\n",
    "\n",
    "show_images([caracter, caracter_final])"
   ]
  },
  {
   "cell_type": "code",
   "execution_count": null,
   "metadata": {
    "collapsed": false,
    "slideshow": {
     "slide_type": "slide"
    }
   },
   "outputs": [],
   "source": [
    "%matplotlib tk\n",
    "from utils import make_animation\n",
    "from image_processing import get_image, get_lines, get_chars, process_char\n",
    "import matplotlib.pylab as plt\n",
    "\n",
    "def get_digits(img):\n",
    "    for line_slice in get_lines(img):\n",
    "        for char_slice in get_chars(img, line_slice):\n",
    "            digit = process_char(img, char_slice)\n",
    "            yield digit, char_slice\n",
    "\n",
    "#def get_digits_fake(img):\n",
    "#    Teniamos hardcodeado la manera de buscar los digitos\n",
    "\n",
    "numbers = list(map(int, open('numbers.txt').read().split(' ')))\n",
    "o, f = get_image('numbers.png')\n",
    "slices = [(s, 'green', n) for ((_, s), n) in zip(get_digits(f), numbers)]\n",
    "ani = make_animation(o, slices, 300)\n",
    "plt.show()"
   ]
  },
  {
   "cell_type": "markdown",
   "metadata": {
    "slideshow": {
     "slide_type": "slide"
    }
   },
   "source": [
    "### Ahora si... queda solo una función para que ande el OCR\n",
    "\n",
    "&lt;optimistic mode&gt;\n",
    "\n",
    "   *Es simple! solo hay que hacer que pueda mapear una imagen de 28x28 pixeles a un dígito*\n",
    "\n",
    "&lt;/optimistic mode&gt;\n",
    "\n",
    "* Vamos a usar aprendizaje supervisado, entonces... Necesitamos muchas imagenes clasificadas..."
   ]
  },
  {
   "cell_type": "markdown",
   "metadata": {
    "slideshow": {
     "slide_type": "slide"
    }
   },
   "source": [
    "### MNIST\n",
    "\n",
    "* Base de datos con 2 datasets\n",
    "* Todas las imagenes están pre-procesadas\n",
    "* Es como un standar para probar distintos algoritmos de entrenamiento\n",
    "* Se pueden descargar en formato binario o csv\n",
    "* Para que este código funcione tienen que estar bajados los binarios del sitio\n"
   ]
  },
  {
   "cell_type": "code",
   "execution_count": null,
   "metadata": {
    "collapsed": false,
    "slideshow": {
     "slide_type": "slide"
    }
   },
   "outputs": [],
   "source": [
    "%matplotlib inline\n",
    "import numpy as np\n",
    "from utils import show_images\n",
    "no_images = 25\n",
    "with open('train-images-idx3-ubyte', 'rb') as f:\n",
    "    f.read(16)\n",
    "    X = np.array(list(f.read(28 * 28 * no_images)), dtype=np.uint8)\n",
    "    X = X.reshape(no_images, 28 * 28)\n",
    "\n",
    "show_images(X, new_shape=(28, 28))"
   ]
  },
  {
   "cell_type": "code",
   "execution_count": null,
   "metadata": {
    "collapsed": false,
    "slideshow": {
     "slide_type": "slide"
    }
   },
   "outputs": [],
   "source": [
    "with open('train-labels-idx1-ubyte', 'rb') as f:\n",
    "    f.read(8)\n",
    "    y = np.array(list(f.read(no_images)))\n",
    "    \n",
    "show_images(X, new_shape=(28, 28))\n",
    "print(y)"
   ]
  },
  {
   "cell_type": "markdown",
   "metadata": {
    "slideshow": {
     "slide_type": "slide"
    }
   },
   "source": [
    "## sklearn\n",
    "\n",
    "* Machine learning en Python\n",
    "* Hecho sobre Numpy, SciPy y MatPlotLib\n",
    "* Contiene de todo un poco...\n",
    "* Nos interesa:\n",
    "    + Armar un clasificador \n",
    "    + Medir que tan bien funciona el clasificador\n"
   ]
  },
  {
   "cell_type": "markdown",
   "metadata": {
    "slideshow": {
     "slide_type": "slide"
    }
   },
   "source": [
    "### Regresión logistica\n",
    "\n",
    "<img src='decision_boundary.png'>\n",
    "\n",
    "* Es una regresión lineal con una función logística en su salida\n",
    "* El modelo es una recta, hay que aprender los parámetros\n",
    "* La salida nos dice que probabilidad hay de que la entrada sea de **Positiva**"
   ]
  },
  {
   "cell_type": "markdown",
   "metadata": {
    "slideshow": {
     "slide_type": "subslide"
    }
   },
   "source": [
    "* ¿que pasa si hay varias clases?\n",
    "\n",
    "<img src='one_vs_all.png'>"
   ]
  },
  {
   "cell_type": "markdown",
   "metadata": {
    "slideshow": {
     "slide_type": "subslide"
    }
   },
   "source": [
    "**En sklearn tenemos todo resuelto en SGDClassifier**"
   ]
  },
  {
   "cell_type": "code",
   "execution_count": null,
   "metadata": {
    "collapsed": false,
    "slideshow": {
     "slide_type": "-"
    }
   },
   "outputs": [],
   "source": [
    "from digits_classifiers import get_datasets\n",
    "from sklearn.linear_model import SGDClassifier\n",
    "\n",
    "X_train, y_train, X_val, y_val = get_datasets()\n",
    "\n",
    "classifier = SGDClassifier(loss='log')\n",
    "classifier.fit(X_train, y_train)\n"
   ]
  },
  {
   "cell_type": "code",
   "execution_count": null,
   "metadata": {
    "collapsed": false,
    "slideshow": {
     "slide_type": "slide"
    }
   },
   "outputs": [],
   "source": [
    "from utils import show_images\n",
    "\n",
    "a_predecir = X_val[:10]\n",
    "predicciones = classifier.predict(a_predecir)\n",
    "\n",
    "show_images(a_predecir, new_shape=(28, 28), columns=5)\n",
    "print(predicciones)"
   ]
  },
  {
   "cell_type": "markdown",
   "metadata": {
    "slideshow": {
     "slide_type": "slide"
    }
   },
   "source": [
    "### Midiendo que tan bien funciona\n",
    "\n",
    "* Vamos a usar **accuracy**: porcentaje de veces que predice bien"
   ]
  },
  {
   "cell_type": "code",
   "execution_count": null,
   "metadata": {
    "collapsed": false
   },
   "outputs": [],
   "source": [
    "from sklearn.metrics import accuracy_score\n",
    "\n",
    "predictions = classifier.predict(X_val)\n",
    "\n",
    "accuracy = accuracy_score(y_val, predictions)\n",
    "print(\"Accuracy: {}%\".format(accuracy*100))"
   ]
  },
  {
   "cell_type": "markdown",
   "metadata": {
    "slideshow": {
     "slide_type": "slide"
    }
   },
   "source": [
    "## Ponemos todo junto..."
   ]
  },
  {
   "cell_type": "code",
   "execution_count": null,
   "metadata": {
    "collapsed": false
   },
   "outputs": [],
   "source": [
    "%matplotlib tk\n",
    "\n",
    "from image_processing import get_digits, get_image \n",
    "from utils import make_animation\n",
    "import matplotlib.pylab as plt\n",
    "\n",
    "original, img = get_image('numbers.png')\n",
    "\n",
    "predictions = []\n",
    "for digit, slice_ in get_digits(img):\n",
    "    p = classifier.predict(digit)[0]\n",
    "    predictions.append((slice_, 'green', p))\n",
    "\n",
    "ani = make_animation(original, predictions, interval=300)\n",
    "plt.show()"
   ]
  },
  {
   "cell_type": "markdown",
   "metadata": {
    "slideshow": {
     "slide_type": "slide"
    }
   },
   "source": [
    "### Gracias! ¿Preguntas?\n",
    "\n",
    "Si me quieren contactar:\n",
    "\n",
    "* arielrossanigo@gmail.com\n",
    "* @arielrossanigo\n",
    "* https://github.com/arielrossanigo\n"
   ]
  },
  {
   "cell_type": "markdown",
   "metadata": {
    "slideshow": {
     "slide_type": "subslide"
    }
   },
   "source": [
    "### Enlaces\n",
    "\n",
    "* [OpenCV (opencv.org)](http://opencv.org/)\n",
    "* [MNIST (yann.lecun.com/exdb/mnist)](http://yann.lecun.com/exdb/mnist/)\n",
    "* [scikit-learn (scikit-learn.org)](http://scikit-learn.org/)\n",
    "* [Esta charla (github.com/arielrossanigo/talks/tree/master/character_recognition)](https://github.com/arielrossanigo/talks/tree/master/character_recognition)"
   ]
  }
 ],
 "metadata": {
  "celltoolbar": "Slideshow",
  "kernelspec": {
   "display_name": "Python 3",
   "language": "python",
   "name": "python3"
  },
  "language_info": {
   "codemirror_mode": {
    "name": "ipython",
    "version": 3
   },
   "file_extension": ".py",
   "mimetype": "text/x-python",
   "name": "python",
   "nbconvert_exporter": "python",
   "pygments_lexer": "ipython3",
   "version": "3.5.1+"
  }
 },
 "nbformat": 4,
 "nbformat_minor": 0
}
