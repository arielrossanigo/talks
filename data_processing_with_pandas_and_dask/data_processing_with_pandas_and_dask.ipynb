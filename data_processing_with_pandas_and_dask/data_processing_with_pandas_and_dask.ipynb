{
 "cells": [
  {
   "cell_type": "markdown",
   "metadata": {
    "slideshow": {
     "slide_type": "slide"
    }
   },
   "source": [
    "# Data processing with Pandas and Dask\n",
    "\n",
    "\n",
    "\n",
    "\n",
    "\n",
    "\n",
    "\n",
    "\n",
    "\n",
    "**Ariel Rossanigo**\n"
   ]
  },
  {
   "cell_type": "markdown",
   "metadata": {
    "slideshow": {
     "slide_type": "slide"
    }
   },
   "source": [
    "### Who I am?\n",
    "\n",
    "* Ariel Rossanigo\n",
    "* Artificial Intelligence teacher at UCSE-DAR\n",
    "* Developer, Data Scientist"
   ]
  },
  {
   "cell_type": "markdown",
   "metadata": {
    "slideshow": {
     "slide_type": "slide"
    }
   },
   "source": [
    "### Goals\n",
    "\n",
    "* Pandas intro\n",
    "* Dask intro \n",
    "\n",
    "\n",
    "https://pandas.pydata.org/pandas-docs/stable/10min.html\n"
   ]
  },
  {
   "cell_type": "markdown",
   "metadata": {
    "slideshow": {
     "slide_type": "slide"
    }
   },
   "source": [
    "### In order to run this notebook...\n",
    "\n",
    "#### 1. Clone talks repository and move to this talk folder\n",
    "\n",
    "    git clone git@github.com:arielrossanigo/data_processing_with_pandas_and_dask.git\n",
    "    cd data_processing_with_pandas_and_dask\n",
    "\n",
    "#### 2. Install requirements\n",
    "\n",
    "    pip install -r requirements.txt\n",
    "\n",
    "#### 3. Open this notebook\n",
    "\n",
    "    jupyter notebook data_processing_with_pandas_and_dask.ipynb\n",
    "  \n",
    "\n",
    "#### 4. Run the next cell"
   ]
  },
  {
   "cell_type": "code",
   "execution_count": null,
   "metadata": {
    "slideshow": {
     "slide_type": "-"
    }
   },
   "outputs": [],
   "source": [
    "%matplotlib inline\n",
    "import pandas as pd\n",
    "import numpy as np\n",
    "import matplotlib.pyplot as plt\n",
    "from bokeh.plotting import output_notebook\n",
    "output_notebook()\n",
    "print(\"It works!\")"
   ]
  },
  {
   "cell_type": "markdown",
   "metadata": {
    "slideshow": {
     "slide_type": "slide"
    }
   },
   "source": [
    "### Pandas (Python Data Analysis Library)\n",
    "\n",
    "* The *de facto* tool to work with data in Python\n",
    "* It's made over **numpy** \n",
    "* It have high level data structures"
   ]
  },
  {
   "cell_type": "markdown",
   "metadata": {
    "slideshow": {
     "slide_type": "slide"
    }
   },
   "source": [
    "### Basic structures\n",
    "\n",
    "* Serie: one dimensional labeled array"
   ]
  },
  {
   "cell_type": "code",
   "execution_count": null,
   "metadata": {},
   "outputs": [],
   "source": [
    "array = np.random.randn(5)\n",
    "s = pd.Series(array, index=['a', 'b', 'c', 'd', 'e'])\n",
    "s "
   ]
  },
  {
   "cell_type": "markdown",
   "metadata": {
    "slideshow": {
     "slide_type": "slide"
    }
   },
   "source": [
    "#### Data alignment is intrinsic"
   ]
  },
  {
   "cell_type": "code",
   "execution_count": null,
   "metadata": {
    "slideshow": {
     "slide_type": "-"
    }
   },
   "outputs": [],
   "source": [
    "array[1:] + array[:-1]"
   ]
  },
  {
   "cell_type": "code",
   "execution_count": null,
   "metadata": {},
   "outputs": [],
   "source": [
    "s[1:] + s[:-1]"
   ]
  },
  {
   "cell_type": "markdown",
   "metadata": {
    "slideshow": {
     "slide_type": "slide"
    }
   },
   "source": [
    "* Dataframe: 2-dimensional labeled data structure with columns of potentially different types"
   ]
  },
  {
   "cell_type": "code",
   "execution_count": null,
   "metadata": {
    "slideshow": {
     "slide_type": "-"
    }
   },
   "outputs": [],
   "source": [
    "beatles = pd.DataFrame({    \n",
    "    'name': ['john', 'paul', 'george', 'ringo'],\n",
    "    'year': [1940, 1942, 1943, 1940]\n",
    "})\n",
    "beatles"
   ]
  },
  {
   "cell_type": "markdown",
   "metadata": {
    "slideshow": {
     "slide_type": "slide"
    }
   },
   "source": [
    "### Reading data into dataframes\n",
    "\n",
    "The pandas I/O API is a set of top level reader and writer functions that supports various formats (CSV, Excel, HDF5, pickle, SQL and more)\n",
    "\n",
    "http://pandas.pydata.org/pandas-docs/stable/io.html"
   ]
  },
  {
   "cell_type": "markdown",
   "metadata": {
    "slideshow": {
     "slide_type": "slide"
    }
   },
   "source": [
    "#### The example data...\n",
    "\n",
    "We'll have 2 sets of data:\n",
    "\n",
    "* dropouts: accounts that dropped out from our company\n",
    "* incomes: imcome of people related to the company accross the time"
   ]
  },
  {
   "cell_type": "code",
   "execution_count": null,
   "metadata": {
    "slideshow": {
     "slide_type": "slide"
    }
   },
   "outputs": [],
   "source": [
    "dropouts = pd.read_csv('dropouts.csv.gz', \n",
    "                       parse_dates=['dropout_date'], \n",
    "                       index_col='account_id')\n",
    "\n",
    "dropouts.head()"
   ]
  },
  {
   "cell_type": "code",
   "execution_count": null,
   "metadata": {
    "slideshow": {
     "slide_type": "slide"
    }
   },
   "outputs": [],
   "source": [
    "incomes = pd.read_csv('incomes.csv.gz', \n",
    "                      parse_dates=['valid_from'])\n",
    "incomes.info(memory_usage='deep')"
   ]
  },
  {
   "cell_type": "markdown",
   "metadata": {
    "slideshow": {
     "slide_type": "slide"
    }
   },
   "source": [
    "### Data selection\n",
    "\n",
    "* By label: **loc**, **at**\n",
    "\n",
    "The dropout motive of the account_id 55174276247"
   ]
  },
  {
   "cell_type": "code",
   "execution_count": null,
   "metadata": {},
   "outputs": [],
   "source": [
    "dropouts.at[55174276247, 'dropout_motive']"
   ]
  },
  {
   "cell_type": "markdown",
   "metadata": {
    "slideshow": {
     "slide_type": "slide"
    }
   },
   "source": [
    "* By position: **iloc**, **iat**\n",
    "\n",
    "The third row"
   ]
  },
  {
   "cell_type": "code",
   "execution_count": null,
   "metadata": {},
   "outputs": [],
   "source": [
    "dropouts.iloc[2]"
   ]
  },
  {
   "cell_type": "markdown",
   "metadata": {
    "slideshow": {
     "slide_type": "slide"
    }
   },
   "source": [
    "* Boolean indexing\n",
    "\n",
    "Dropouts of 2018"
   ]
  },
  {
   "cell_type": "code",
   "execution_count": null,
   "metadata": {},
   "outputs": [],
   "source": [
    "dropouts.loc[dropouts.dropout_date.dt.year == 2018].head()"
   ]
  },
  {
   "cell_type": "markdown",
   "metadata": {
    "slideshow": {
     "slide_type": "slide"
    }
   },
   "source": [
    "### Column setting"
   ]
  },
  {
   "cell_type": "code",
   "execution_count": null,
   "metadata": {},
   "outputs": [],
   "source": [
    "dropouts['year'] = dropouts.dropout_date.dt.year\n",
    "dropouts.head()"
   ]
  },
  {
   "cell_type": "markdown",
   "metadata": {
    "slideshow": {
     "slide_type": "slide"
    }
   },
   "source": [
    "### Operations"
   ]
  },
  {
   "cell_type": "code",
   "execution_count": null,
   "metadata": {
    "scrolled": true
   },
   "outputs": [],
   "source": [
    "(incomes.income + incomes.income).head()"
   ]
  },
  {
   "cell_type": "code",
   "execution_count": null,
   "metadata": {},
   "outputs": [],
   "source": [
    "incomes.income.mean(), incomes.income.median()"
   ]
  },
  {
   "cell_type": "code",
   "execution_count": null,
   "metadata": {
    "slideshow": {
     "slide_type": "slide"
    }
   },
   "outputs": [],
   "source": [
    "# How many dropouts per motive\n",
    "dropouts.dropout_motive.value_counts().head(5)"
   ]
  },
  {
   "cell_type": "code",
   "execution_count": null,
   "metadata": {
    "slideshow": {
     "slide_type": "slide"
    }
   },
   "outputs": [],
   "source": [
    "# pivot tables \n",
    "dropouts.pivot_table(index='dropout_motive', \n",
    "                     columns='year', \n",
    "                     aggfunc='count', \n",
    "                     margins=True)"
   ]
  },
  {
   "cell_type": "code",
   "execution_count": null,
   "metadata": {
    "slideshow": {
     "slide_type": "slide"
    }
   },
   "outputs": [],
   "source": [
    "# ranges\n",
    "bins = [0, 30_000, 50_000, 1e15]\n",
    "incomes['range'] = pd.cut(incomes.income, bins)\n",
    "display(incomes.range.value_counts())\n",
    "del incomes['range']"
   ]
  },
  {
   "cell_type": "markdown",
   "metadata": {
    "slideshow": {
     "slide_type": "slide"
    }
   },
   "source": [
    "### Missing data"
   ]
  },
  {
   "cell_type": "code",
   "execution_count": null,
   "metadata": {},
   "outputs": [],
   "source": [
    "m = incomes[incomes.income.isnull()]\n",
    "m.head()"
   ]
  },
  {
   "cell_type": "code",
   "execution_count": null,
   "metadata": {},
   "outputs": [],
   "source": [
    "m.fillna(0).head()"
   ]
  },
  {
   "cell_type": "code",
   "execution_count": null,
   "metadata": {
    "slideshow": {
     "slide_type": "slide"
    }
   },
   "outputs": [],
   "source": [
    "sa = incomes[\n",
    "    incomes.account_id.isin([71545775181, 79712936137])\n",
    "].copy()\n",
    "sa['no_na'] = sa.income.fillna(method='bfill')\n",
    "sa"
   ]
  },
  {
   "cell_type": "markdown",
   "metadata": {
    "slideshow": {
     "slide_type": "slide"
    }
   },
   "source": [
    "### Applying functions  "
   ]
  },
  {
   "cell_type": "code",
   "execution_count": null,
   "metadata": {},
   "outputs": [],
   "source": [
    "sa.income.apply(lambda x: '{:,.2f} $'.format(x)).head(3)"
   ]
  },
  {
   "cell_type": "markdown",
   "metadata": {
    "slideshow": {
     "slide_type": "slide"
    }
   },
   "source": [
    "### Grouping data\n",
    "\n",
    "Involves at least one of:\n",
    "\n",
    "* **Splitting** data into groups based on some criteria\n",
    "* **Applying** a function to each group independently\n",
    " * Aggregation\n",
    " * Transformation\n",
    " * Filtration\n",
    "* **Combining** the results into a data structure\n",
    "\n",
    "http://pandas.pydata.org/pandas-docs/stable/groupby.html"
   ]
  },
  {
   "cell_type": "code",
   "execution_count": null,
   "metadata": {
    "slideshow": {
     "slide_type": "slide"
    }
   },
   "outputs": [],
   "source": [
    "# fixing the fillna problem with bfill\n",
    "sa['no_na'] = sa.income.fillna(method='bfill')\n",
    "sa['no_na_fixed'] = (sa.groupby('account_id')\n",
    "                     .income\n",
    "                     .fillna(method='bfill'))\n",
    "sa"
   ]
  },
  {
   "cell_type": "markdown",
   "metadata": {
    "slideshow": {
     "slide_type": "slide"
    }
   },
   "source": [
    "Let's suppose that we want to calculate the income of an account at the dropout moment..."
   ]
  },
  {
   "cell_type": "code",
   "execution_count": null,
   "metadata": {},
   "outputs": [],
   "source": [
    "# lets create a valid_to column in order to have a simpler way of filter the income for an specific date\n",
    "f_incomes = incomes[incomes.income.notnull()].copy()\n",
    "f_incomes = f_incomes.sort_values(\n",
    "    by=['account_id', 'employer', 'valid_from']\n",
    ")\n",
    "f_incomes['valid_to'] = f_incomes.groupby(\n",
    "    ['account_id', 'employer']\n",
    ").valid_from.shift(-1)\n",
    "f_incomes.valid_to = f_incomes.valid_to.fillna(\n",
    "    pd.to_datetime('21000101')\n",
    ")"
   ]
  },
  {
   "cell_type": "code",
   "execution_count": null,
   "metadata": {},
   "outputs": [],
   "source": [
    "f_incomes[f_incomes.account_id==2376461]"
   ]
  },
  {
   "cell_type": "markdown",
   "metadata": {
    "slideshow": {
     "slide_type": "slide"
    }
   },
   "source": [
    "### Combining data\n",
    "#### Concat"
   ]
  },
  {
   "cell_type": "code",
   "execution_count": null,
   "metadata": {
    "scrolled": true
   },
   "outputs": [],
   "source": [
    "d_2018 = dropouts[dropouts.year == 2018].sample(5)\n",
    "d_2017 = dropouts[dropouts.year == 2017].sample(5)\n",
    "sample_dropouts = pd.concat([d_2017, d_2018], axis='index')\n",
    "sample_dropouts"
   ]
  },
  {
   "cell_type": "markdown",
   "metadata": {
    "slideshow": {
     "slide_type": "slide"
    }
   },
   "source": [
    "### Combining data\n",
    "#### Merge"
   ]
  },
  {
   "cell_type": "code",
   "execution_count": null,
   "metadata": {},
   "outputs": [],
   "source": [
    "merged = dropouts.merge(f_incomes, \n",
    "                        left_index=True, \n",
    "                        right_on='account_id')\n",
    "merged.head()"
   ]
  },
  {
   "cell_type": "code",
   "execution_count": null,
   "metadata": {
    "slideshow": {
     "slide_type": "slide"
    }
   },
   "outputs": [],
   "source": [
    "merged = merged[(merged.valid_from <= merged.dropout_date) & \n",
    "                (merged.dropout_date < merged.valid_to)]\n",
    "merged = merged.groupby(\n",
    "    ['account_id', 'dropout_date', 'dropout_motive']\n",
    ").income.sum().reset_index()\n",
    "merged[merged.account_id==41608245309].head()"
   ]
  },
  {
   "cell_type": "markdown",
   "metadata": {
    "slideshow": {
     "slide_type": "slide"
    }
   },
   "source": [
    "### Some charts"
   ]
  },
  {
   "cell_type": "code",
   "execution_count": null,
   "metadata": {},
   "outputs": [],
   "source": [
    "(merged.income\n",
    " .clip_upper(merged.income.quantile(0.98))\n",
    " .hist(bins=20));"
   ]
  },
  {
   "cell_type": "code",
   "execution_count": null,
   "metadata": {
    "slideshow": {
     "slide_type": "slide"
    }
   },
   "outputs": [],
   "source": [
    "merged['clipped_income'] = merged.income.clip_upper(merged.income.quantile(0.98))\n",
    "ax = merged.boxplot(by='dropout_motive', \n",
    "                    column='clipped_income', \n",
    "                    figsize=(10, 3))\n",
    "\n",
    "ax.set_xticklabels([x.get_text()[:20] for x in ax.get_xticklabels()], rotation=25, ha='right')\n",
    "ax.set_title('')\n",
    "del merged['clipped_income']"
   ]
  },
  {
   "cell_type": "markdown",
   "metadata": {
    "slideshow": {
     "slide_type": "slide"
    }
   },
   "source": [
    "### Dask\n",
    "\n",
    "<img src=\"imgs/collections-schedulers.png\" width=\"600\" align=\"middle\">\n"
   ]
  },
  {
   "cell_type": "markdown",
   "metadata": {
    "slideshow": {
     "slide_type": "slide"
    }
   },
   "source": [
    "### Dask\n",
    "\n",
    "#### Why?\n",
    "\n",
    "* Familiar API\n",
    "* Single Computer & Cluster\n",
    "* Integrates with the Python ecosystem\n",
    "* Supports complex applications\n"
   ]
  },
  {
   "cell_type": "markdown",
   "metadata": {
    "slideshow": {
     "slide_type": "slide"
    }
   },
   "source": [
    "### Dask Dataframe\n",
    "\n",
    "<div style=\"float: left; margin: 30px;\"><img src=\"imgs/dask-dataframe.svg\" width=\"300\" align=\"middle\"></div>\n"
   ]
  },
  {
   "cell_type": "markdown",
   "metadata": {
    "slideshow": {
     "slide_type": "slide"
    }
   },
   "source": [
    "**Common uses**\n",
    "\n",
    "* Dataset doesn't fit in memory\n",
    "* Accelerating long computations by using many cores\n",
    "* Distribute computing with standard Pandas operations\n",
    "\n",
    "**Anti uses**\n",
    "\n",
    "* Data fits in memory\n",
    "* Data is not tabular (use some other collection)\n",
    "* Non standar operations are needed (use delayed)"
   ]
  },
  {
   "cell_type": "code",
   "execution_count": null,
   "metadata": {
    "slideshow": {
     "slide_type": "slide"
    }
   },
   "outputs": [],
   "source": [
    "# let's improve previous calculation\n",
    "import dask.dataframe as dd\n",
    "import dask.diagnostics\n",
    "from dask.diagnostics import (Profiler, ResourceProfiler, \n",
    "                              CacheProfiler, visualize)"
   ]
  },
  {
   "cell_type": "code",
   "execution_count": null,
   "metadata": {
    "slideshow": {
     "slide_type": "slide"
    }
   },
   "outputs": [],
   "source": [
    "dd_incomes = dd.from_pandas(f_incomes.set_index('account_id'),\n",
    "                            npartitions=10)\n",
    "dd_dropouts = dd.from_pandas(dropouts, \n",
    "                             npartitions=5)\n",
    "\n",
    "dd_merged = dd_dropouts.merge(dd_incomes)\n",
    "\n",
    "dd_merged = dd_merged[\n",
    "    (dd_merged.valid_from <= dd_merged.dropout_date) & \n",
    "    (dd_merged.dropout_date < dd_merged.valid_to)\n",
    "]\n",
    "\n",
    "dd_merged = dd_merged.groupby(\n",
    "    ['account_id', 'dropout_date', 'dropout_motive']\n",
    ").income.sum()"
   ]
  },
  {
   "cell_type": "code",
   "execution_count": null,
   "metadata": {
    "slideshow": {
     "slide_type": "slide"
    }
   },
   "outputs": [],
   "source": [
    "dd_merged.visualize()"
   ]
  },
  {
   "cell_type": "code",
   "execution_count": null,
   "metadata": {
    "slideshow": {
     "slide_type": "slide"
    }
   },
   "outputs": [],
   "source": [
    "with Profiler() as prof, ResourceProfiler(dt=0.01) as rprof:\n",
    "    final = dd_merged.compute()\n",
    "\n",
    "visualize([prof, rprof], save=False);"
   ]
  },
  {
   "cell_type": "code",
   "execution_count": null,
   "metadata": {
    "slideshow": {
     "slide_type": "slide"
    }
   },
   "outputs": [],
   "source": [
    "final = final.reset_index()\n",
    "final = final.set_index(['account_id', 'dropout_date'])\n",
    "merged = merged.set_index(['account_id', 'dropout_date'])\n",
    "final.equals(merged)"
   ]
  },
  {
   "cell_type": "markdown",
   "metadata": {
    "slideshow": {
     "slide_type": "slide"
    }
   },
   "source": [
    "### Thanks! Questions?\n",
    "\n",
    "\n",
    "<div style=\"float: left;\"><img src=\"imgs/man-qmark.jpg\" width=\"300\" align=\"middle\"></div> \n",
    "\n",
    "<div>\n",
    "<div>\n",
    "  <img src=\"imgs/gmail-1162901_960_720.png\" style=\"width: 30px; float: left; vertical-align:middle; margin: 0px;\">\n",
    "  <span style=\"line-height:30px; vertical-align:middle; margin-left: 10px;\">arielrossanigo@gmail.com</span>\n",
    "</div>\n",
    "<div>\n",
    "  <img src=\"imgs/twitter-312464_960_720.png\" style=\"width: 30px; float: left; vertical-align:middle; margin: 0px;\">\n",
    "  <span style=\"line-height:30px; vertical-align:middle; margin-left: 10px;\">@arielrossanigo</span>\n",
    "</div>\n",
    "<div>\n",
    "  <img src=\"imgs/github-154769__340.png\" style=\"width: 30px; float: left; vertical-align:middle; margin: 0px;\">\n",
    "  <span style=\"line-height:30px; vertical-align:middle; margin-left: 10px;\">https://github.com/arielrossanigo</span>\n",
    "</div>\n",
    "<div>\n",
    "  <img src=\"imgs/Linkedin_icon.svg\" style=\"width: 30px; float: left; vertical-align:middle; margin: 0px;\">\n",
    "  <span style=\"line-height:30px; vertical-align:middle; margin-left: 10px;\">https://www.linkedin.com/in/arielrossanigo/</span>\n",
    "</div>\n",
    "\n",
    "</div>\n",
    "\n"
   ]
  }
 ],
 "metadata": {
  "celltoolbar": "Slideshow",
  "kernelspec": {
   "display_name": "Python 3",
   "language": "python",
   "name": "python3"
  },
  "language_info": {
   "codemirror_mode": {
    "name": "ipython",
    "version": 3
   },
   "file_extension": ".py",
   "mimetype": "text/x-python",
   "name": "python",
   "nbconvert_exporter": "python",
   "pygments_lexer": "ipython3",
   "version": "3.6.3"
  }
 },
 "nbformat": 4,
 "nbformat_minor": 2
}
