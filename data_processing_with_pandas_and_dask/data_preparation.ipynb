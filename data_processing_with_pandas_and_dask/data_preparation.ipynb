{
 "cells": [
  {
   "cell_type": "code",
   "execution_count": 1,
   "metadata": {
    "slideshow": {
     "slide_type": "-"
    }
   },
   "outputs": [
    {
     "name": "stdout",
     "output_type": "stream",
     "text": [
      "Funciona!\n"
     ]
    }
   ],
   "source": [
    "%matplotlib inline\n",
    "import pandas as pd\n",
    "import numpy as np\n",
    "import matplotlib.pyplot as plt"
   ]
  },
  {
   "cell_type": "code",
   "execution_count": 53,
   "metadata": {
    "slideshow": {
     "slide_type": "fragment"
    }
   },
   "outputs": [
    {
     "data": {
      "text/html": [
       "<div>\n",
       "<style scoped>\n",
       "    .dataframe tbody tr th:only-of-type {\n",
       "        vertical-align: middle;\n",
       "    }\n",
       "\n",
       "    .dataframe tbody tr th {\n",
       "        vertical-align: top;\n",
       "    }\n",
       "\n",
       "    .dataframe thead th {\n",
       "        text-align: right;\n",
       "    }\n",
       "</style>\n",
       "<table border=\"1\" class=\"dataframe\">\n",
       "  <thead>\n",
       "    <tr style=\"text-align: right;\">\n",
       "      <th></th>\n",
       "      <th>ID</th>\n",
       "      <th>P_KEY</th>\n",
       "      <th>FECHA_DESDE</th>\n",
       "      <th>CUENTA</th>\n",
       "      <th>SUB_CUENTA</th>\n",
       "      <th>EMPLEADOR</th>\n",
       "      <th>REMUNERACION</th>\n",
       "      <th>P_KEY.1</th>\n",
       "      <th>FIRST_ID</th>\n",
       "    </tr>\n",
       "  </thead>\n",
       "  <tbody>\n",
       "    <tr>\n",
       "      <th>0</th>\n",
       "      <td>10</td>\n",
       "      <td>33613032059</td>\n",
       "      <td>20150917204854</td>\n",
       "      <td>336</td>\n",
       "      <td>13</td>\n",
       "      <td>32059</td>\n",
       "      <td>30217.02</td>\n",
       "      <td>33613032059</td>\n",
       "      <td>10</td>\n",
       "    </tr>\n",
       "    <tr>\n",
       "      <th>1</th>\n",
       "      <td>11</td>\n",
       "      <td>33613032059</td>\n",
       "      <td>20151019175221</td>\n",
       "      <td>336</td>\n",
       "      <td>13</td>\n",
       "      <td>32059</td>\n",
       "      <td>34682.35</td>\n",
       "      <td>33613032059</td>\n",
       "      <td>10</td>\n",
       "    </tr>\n",
       "    <tr>\n",
       "      <th>2</th>\n",
       "      <td>12</td>\n",
       "      <td>33613032059</td>\n",
       "      <td>20151119072643</td>\n",
       "      <td>336</td>\n",
       "      <td>13</td>\n",
       "      <td>32059</td>\n",
       "      <td>35093.02</td>\n",
       "      <td>33613032059</td>\n",
       "      <td>10</td>\n",
       "    </tr>\n",
       "  </tbody>\n",
       "</table>\n",
       "</div>"
      ],
      "text/plain": [
       "   ID        P_KEY     FECHA_DESDE  CUENTA  SUB_CUENTA  EMPLEADOR  \\\n",
       "0  10  33613032059  20150917204854     336          13      32059   \n",
       "1  11  33613032059  20151019175221     336          13      32059   \n",
       "2  12  33613032059  20151119072643     336          13      32059   \n",
       "\n",
       "   REMUNERACION      P_KEY.1  FIRST_ID  \n",
       "0      30217.02  33613032059        10  \n",
       "1      34682.35  33613032059        10  \n",
       "2      35093.02  33613032059        10  "
      ]
     },
     "execution_count": 53,
     "metadata": {},
     "output_type": "execute_result"
    }
   ],
   "source": [
    "ingresos = pd.read_csv('../../sancor_salud/bajas/data/raw/historico_ingresos_201807301544.csv.gz')\n"
   ]
  },
  {
   "cell_type": "code",
   "execution_count": 54,
   "metadata": {},
   "outputs": [],
   "source": [
    "ingresos.columns = ingresos.columns.str.lower()"
   ]
  },
  {
   "cell_type": "code",
   "execution_count": 55,
   "metadata": {},
   "outputs": [],
   "source": [
    "def ss_parse_datetime(data, format_):\n",
    "    if not isinstance(data, pd.Series):\n",
    "        raise ValueError('Data must be a Pandas Series')\n",
    "\n",
    "    if data.dtype.kind not in ('f', 'i'):\n",
    "        raise ValueError('Data must be off type float or int.')\n",
    "\n",
    "    name = data.name\n",
    "    ix = data.notnull() & (data != 0)\n",
    "    new_data = pd.Series(index=data.index, dtype='datetime64[ns]')\n",
    "    new_data[ix] = pd.to_datetime(data[ix].astype('int'), format=format_, errors='coerce')\n",
    "\n",
    "    coerced_ix = (new_data.isnull() & ix)\n",
    "    coerced_q = (coerced_ix).sum()\n",
    "    return new_data\n",
    "\n",
    "\n",
    "def ss_date(data):\n",
    "    return ss_parse_datetime(data, '%Y%m%d')\n",
    "\n",
    "\n",
    "def ss_datetime(data):\n",
    "    return ss_parse_datetime(data, '%Y%m%d%H%M%S')\n"
   ]
  },
  {
   "cell_type": "code",
   "execution_count": 56,
   "metadata": {},
   "outputs": [],
   "source": [
    "ingresos.fecha_desde = ss_datetime(ingresos.fecha_desde)"
   ]
  },
  {
   "cell_type": "code",
   "execution_count": 57,
   "metadata": {},
   "outputs": [],
   "source": [
    "ingresos = ingresos[['fecha_desde', 'cuenta', 'empleador', 'remuneracion']].copy()"
   ]
  },
  {
   "cell_type": "code",
   "execution_count": 58,
   "metadata": {},
   "outputs": [],
   "source": [
    "ingresos = ingresos[ingresos.fecha_desde.notnull()].copy()"
   ]
  },
  {
   "cell_type": "code",
   "execution_count": 76,
   "metadata": {},
   "outputs": [],
   "source": [
    "def trasnform_code(code):\n",
    "    bytes_ = str(code).encode('ascii')\n",
    "    new_code = hash(bytes_) % 100_000_000_000\n",
    "    return new_code"
   ]
  },
  {
   "cell_type": "code",
   "execution_count": 77,
   "metadata": {},
   "outputs": [
    {
     "data": {
      "text/plain": [
       "(62201, 62201)"
      ]
     },
     "execution_count": 77,
     "metadata": {},
     "output_type": "execute_result"
    }
   ],
   "source": [
    "ingresos['empleador_en'] = ingresos.empleador.apply(trasnform_code)\n",
    "ingresos.empleador.nunique(), ingresos.empleador_en.nunique()"
   ]
  },
  {
   "cell_type": "code",
   "execution_count": 78,
   "metadata": {},
   "outputs": [
    {
     "data": {
      "text/plain": [
       "(226992, 226992)"
      ]
     },
     "execution_count": 78,
     "metadata": {},
     "output_type": "execute_result"
    }
   ],
   "source": [
    "ingresos['cuenta_en'] = ingresos.cuenta.apply(trasnform_code)\n",
    "ingresos.cuenta.nunique(), ingresos.cuenta_en.nunique()"
   ]
  },
  {
   "cell_type": "code",
   "execution_count": 80,
   "metadata": {},
   "outputs": [],
   "source": [
    "ingresos = ingresos.drop(columns=['empleador', 'cuenta'])"
   ]
  },
  {
   "cell_type": "code",
   "execution_count": 81,
   "metadata": {},
   "outputs": [],
   "source": [
    "ingresos = ingresos.rename(columns={'empleador_en': 'empleador', 'cuenta_en': 'cuenta'})"
   ]
  },
  {
   "cell_type": "code",
   "execution_count": 87,
   "metadata": {},
   "outputs": [],
   "source": [
    "ingresos = ingresos.reset_index(drop=True)"
   ]
  },
  {
   "cell_type": "code",
   "execution_count": 89,
   "metadata": {},
   "outputs": [],
   "source": [
    "to_null = np.random.randint(0, len(ingresos), size=len(ingresos) // 20)\n",
    "ingresos.loc[to_null, 'remuneracion'] = np.nan"
   ]
  },
  {
   "cell_type": "code",
   "execution_count": 162,
   "metadata": {},
   "outputs": [],
   "source": [
    "ingresos.to_csv('ingresos.csv.gz', compression='gzip', index=False)"
   ]
  },
  {
   "cell_type": "code",
   "execution_count": 94,
   "metadata": {},
   "outputs": [
    {
     "data": {
      "text/plain": [
       "count    3.572367e+06\n",
       "mean     2.058011e+04\n",
       "std      3.073897e+04\n",
       "min      0.000000e+00\n",
       "25%      1.299304e+04\n",
       "50%      1.829055e+04\n",
       "75%      2.486579e+04\n",
       "max      9.710000e+06\n",
       "Name: remuneracion, dtype: float64"
      ]
     },
     "execution_count": 94,
     "metadata": {},
     "output_type": "execute_result"
    }
   ],
   "source": [
    "ingresos.remuneracion.describe()"
   ]
  },
  {
   "cell_type": "code",
   "execution_count": 184,
   "metadata": {},
   "outputs": [],
   "source": [
    "stock = pd.read_csv('../../sancor_salud/bajas/data/raw/stock_subcuentas_201807301607.csv.gz')"
   ]
  },
  {
   "cell_type": "code",
   "execution_count": 185,
   "metadata": {},
   "outputs": [],
   "source": [
    "stock.columns = stock.columns.str.lower()"
   ]
  },
  {
   "cell_type": "code",
   "execution_count": 186,
   "metadata": {},
   "outputs": [],
   "source": [
    "stock = stock[['cuenta', 'fecha_baja_sistema', 'motivo_baja']].drop_duplicates()"
   ]
  },
  {
   "cell_type": "code",
   "execution_count": 187,
   "metadata": {},
   "outputs": [],
   "source": [
    "stock = stock[stock.fecha_baja_sistema > 0].copy()"
   ]
  },
  {
   "cell_type": "code",
   "execution_count": 188,
   "metadata": {},
   "outputs": [],
   "source": [
    "stock['fecha_baja'] = ss_date(stock.fecha_baja_sistema)"
   ]
  },
  {
   "cell_type": "code",
   "execution_count": 189,
   "metadata": {},
   "outputs": [
    {
     "data": {
      "text/plain": [
       "(115053, 115053)"
      ]
     },
     "execution_count": 189,
     "metadata": {},
     "output_type": "execute_result"
    }
   ],
   "source": [
    "stock['cuenta_en'] = stock.cuenta.apply(trasnform_code)\n",
    "stock.cuenta.nunique(), stock.cuenta_en.nunique()"
   ]
  },
  {
   "cell_type": "code",
   "execution_count": 190,
   "metadata": {},
   "outputs": [],
   "source": [
    "import this"
   ]
  },
  {
   "cell_type": "code",
   "execution_count": 191,
   "metadata": {},
   "outputs": [],
   "source": [
    "import codecs\n",
    "s = codecs.decode(this.s, 'rot-13')\n"
   ]
  },
  {
   "cell_type": "code",
   "execution_count": 192,
   "metadata": {},
   "outputs": [],
   "source": [
    "lines = [x for x in s.split('\\n') if len(x) > 0]"
   ]
  },
  {
   "cell_type": "code",
   "execution_count": 193,
   "metadata": {},
   "outputs": [],
   "source": [
    "import random"
   ]
  },
  {
   "cell_type": "code",
   "execution_count": 194,
   "metadata": {},
   "outputs": [],
   "source": [
    "remaining_lines = lines[:]\n",
    "for m in stock.motivo_baja.unique():\n",
    "    if len(remaining_lines) == 0:\n",
    "        remaining_lines = lines[:]\n",
    "    stock.loc[stock.motivo_baja == m, 'motivo_en'] = random.choice(remaining_lines)"
   ]
  },
  {
   "cell_type": "code",
   "execution_count": 199,
   "metadata": {},
   "outputs": [],
   "source": [
    "stock = stock[stock.motivo_baja!='RESCISION DE CONTRATO/CONVENIO']"
   ]
  },
  {
   "cell_type": "code",
   "execution_count": 200,
   "metadata": {},
   "outputs": [],
   "source": [
    "stock = stock[['cuenta_en', 'motivo_en', 'fecha_baja']].copy()"
   ]
  },
  {
   "cell_type": "code",
   "execution_count": 201,
   "metadata": {},
   "outputs": [],
   "source": [
    "stock.columns = ['cuenta', 'motivo_baja', 'fecha_baja']"
   ]
  },
  {
   "cell_type": "code",
   "execution_count": 202,
   "metadata": {},
   "outputs": [
    {
     "data": {
      "text/html": [
       "<div>\n",
       "<style scoped>\n",
       "    .dataframe tbody tr th:only-of-type {\n",
       "        vertical-align: middle;\n",
       "    }\n",
       "\n",
       "    .dataframe tbody tr th {\n",
       "        vertical-align: top;\n",
       "    }\n",
       "\n",
       "    .dataframe thead th {\n",
       "        text-align: right;\n",
       "    }\n",
       "</style>\n",
       "<table border=\"1\" class=\"dataframe\">\n",
       "  <thead>\n",
       "    <tr style=\"text-align: right;\">\n",
       "      <th></th>\n",
       "      <th>cuenta</th>\n",
       "      <th>motivo_baja</th>\n",
       "      <th>fecha_baja</th>\n",
       "    </tr>\n",
       "  </thead>\n",
       "  <tbody>\n",
       "    <tr>\n",
       "      <th>2</th>\n",
       "      <td>43653210508</td>\n",
       "      <td>Explicit is better than implicit.</td>\n",
       "      <td>2018-06-27</td>\n",
       "    </tr>\n",
       "    <tr>\n",
       "      <th>18</th>\n",
       "      <td>53077128540</td>\n",
       "      <td>Unless explicitly silenced.</td>\n",
       "      <td>2017-04-25</td>\n",
       "    </tr>\n",
       "    <tr>\n",
       "      <th>31</th>\n",
       "      <td>36001999808</td>\n",
       "      <td>Unless explicitly silenced.</td>\n",
       "      <td>2017-01-09</td>\n",
       "    </tr>\n",
       "    <tr>\n",
       "      <th>33</th>\n",
       "      <td>12420534830</td>\n",
       "      <td>Readability counts.</td>\n",
       "      <td>2016-12-12</td>\n",
       "    </tr>\n",
       "    <tr>\n",
       "      <th>39</th>\n",
       "      <td>55097901246</td>\n",
       "      <td>Flat is better than nested.</td>\n",
       "      <td>2017-06-21</td>\n",
       "    </tr>\n",
       "  </tbody>\n",
       "</table>\n",
       "</div>"
      ],
      "text/plain": [
       "         cuenta                        motivo_baja fecha_baja\n",
       "2   43653210508  Explicit is better than implicit. 2018-06-27\n",
       "18  53077128540        Unless explicitly silenced. 2017-04-25\n",
       "31  36001999808        Unless explicitly silenced. 2017-01-09\n",
       "33  12420534830                Readability counts. 2016-12-12\n",
       "39  55097901246        Flat is better than nested. 2017-06-21"
      ]
     },
     "execution_count": 202,
     "metadata": {},
     "output_type": "execute_result"
    }
   ],
   "source": [
    "stock.head()"
   ]
  },
  {
   "cell_type": "code",
   "execution_count": 205,
   "metadata": {},
   "outputs": [],
   "source": [
    "stock = stock.sample(frac=0.5)"
   ]
  },
  {
   "cell_type": "code",
   "execution_count": 207,
   "metadata": {},
   "outputs": [],
   "source": [
    "stock.to_csv('bajas.csv.gz', compression='gzip', index=False)"
   ]
  }
 ],
 "metadata": {
  "celltoolbar": "Slideshow",
  "kernelspec": {
   "display_name": "Python 3",
   "language": "python",
   "name": "python3"
  },
  "language_info": {
   "codemirror_mode": {
    "name": "ipython",
    "version": 3
   },
   "file_extension": ".py",
   "mimetype": "text/x-python",
   "name": "python",
   "nbconvert_exporter": "python",
   "pygments_lexer": "ipython3",
   "version": "3.6.3"
  }
 },
 "nbformat": 4,
 "nbformat_minor": 2
}
