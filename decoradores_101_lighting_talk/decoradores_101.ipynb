{
 "cells": [
  {
   "cell_type": "markdown",
   "metadata": {
    "slideshow": {
     "slide_type": "slide"
    }
   },
   "source": [
    "# Decoradores 101\n",
    "\n",
    "\n",
    "```\n",
    "@my_cool_decorator\n",
    "def mi_funcion(x):\n",
    "    pass\n",
    "```"
   ]
  },
  {
   "cell_type": "code",
   "execution_count": 1,
   "metadata": {
    "ExecuteTime": {
     "end_time": "2022-05-28T17:56:42.687190Z",
     "start_time": "2022-05-28T17:56:42.667025Z"
    },
    "slideshow": {
     "slide_type": "slide"
    }
   },
   "outputs": [
    {
     "name": "stdout",
     "output_type": "stream",
     "text": [
      "Args are: (1, 2, 3)\n",
      "Args are: (1, 2, 3)\n"
     ]
    },
    {
     "data": {
      "text/plain": [
       "6"
      ]
     },
     "execution_count": 1,
     "metadata": {},
     "output_type": "execute_result"
    }
   ],
   "source": [
    "def sum_args(*args):\n",
    "    print(\"Args are: {}\".format(args))\n",
    "    return sum(args)\n",
    "\n",
    "sum_args(1, 2, 3)\n",
    "sum_args(1, 2, 3)"
   ]
  },
  {
   "cell_type": "code",
   "execution_count": 2,
   "metadata": {
    "ExecuteTime": {
     "end_time": "2022-05-28T17:56:42.695712Z",
     "start_time": "2022-05-28T17:56:42.689629Z"
    },
    "slideshow": {
     "slide_type": "-"
    }
   },
   "outputs": [
    {
     "name": "stdout",
     "output_type": "stream",
     "text": [
      "Args are: (1, 2, 3)\n"
     ]
    },
    {
     "data": {
      "text/plain": [
       "6"
      ]
     },
     "execution_count": 2,
     "metadata": {},
     "output_type": "execute_result"
    }
   ],
   "source": [
    "from functools import lru_cache\n",
    "\n",
    "@lru_cache\n",
    "def sum_args(*args):\n",
    "    print(\"Args are: {}\".format(args))\n",
    "    return sum(args)\n",
    "\n",
    "sum_args(1, 2, 3)\n",
    "sum_args(1, 2, 3)"
   ]
  },
  {
   "cell_type": "markdown",
   "metadata": {
    "slideshow": {
     "slide_type": "slide"
    }
   },
   "source": [
    "<div><img src=\"./imgs/wtf1.png\" width=\"30%\" style=\"float: left; margin: 10px;\" align=\"middle\"></div>\n",
    "   \n",
    "### ¿Qué es un decorador?\n",
    "\n",
    "* Es una función que recibe una función como parámetro y devuelve una función nueva\n",
    "* Eso mas un poco de syntax sugar...\n"
   ]
  },
  {
   "cell_type": "code",
   "execution_count": 3,
   "metadata": {
    "ExecuteTime": {
     "end_time": "2022-05-28T17:56:42.707584Z",
     "start_time": "2022-05-28T17:56:42.699143Z"
    },
    "slideshow": {
     "slide_type": "slide"
    }
   },
   "outputs": [
    {
     "name": "stdout",
     "output_type": "stream",
     "text": [
      "Args are: (1, 2, 3)\n",
      "6\n"
     ]
    },
    {
     "data": {
      "text/plain": [
       "6"
      ]
     },
     "execution_count": 3,
     "metadata": {},
     "output_type": "execute_result"
    }
   ],
   "source": [
    "def sum_args(*args):\n",
    "    print(\"Args are: {}\".format(args))\n",
    "    return sum(args)\n",
    "\n",
    "sum_args = lru_cache(sum_args)\n",
    "\n",
    "print(sum_args(1, 2, 3))\n",
    "sum_args(1, 2, 3)"
   ]
  },
  {
   "cell_type": "code",
   "execution_count": 4,
   "metadata": {
    "ExecuteTime": {
     "end_time": "2022-05-28T17:56:42.717078Z",
     "start_time": "2022-05-28T17:56:42.713063Z"
    },
    "slideshow": {
     "slide_type": "slide"
    }
   },
   "outputs": [],
   "source": [
    "def my_cache(the_original_function):\n",
    "    def the_modified_function(*args):\n",
    "        if args not in cache:\n",
    "            cache[args] = the_original_function(*args)\n",
    "        return cache[args]    \n",
    "    cache = {}\n",
    "    return the_modified_function"
   ]
  },
  {
   "cell_type": "code",
   "execution_count": 5,
   "metadata": {
    "ExecuteTime": {
     "end_time": "2022-05-28T17:56:42.727304Z",
     "start_time": "2022-05-28T17:56:42.719198Z"
    },
    "slideshow": {
     "slide_type": "slide"
    }
   },
   "outputs": [
    {
     "name": "stdout",
     "output_type": "stream",
     "text": [
      "Args are: (1, 2, 3)\n",
      "6\n",
      "Args are: (1, 2, 3)\n",
      "6\n",
      "Help on function sum_args in module __main__:\n",
      "\n",
      "sum_args(*args)\n",
      "    This function sums all args\n",
      "\n"
     ]
    }
   ],
   "source": [
    "def sum_args(*args):\n",
    "    'This function sums all args'\n",
    "    print(\"Args are: {}\".format(args))\n",
    "    return sum(args)\n",
    "\n",
    "print(sum_args(1, 2, 3))\n",
    "print(sum_args(1, 2, 3))\n",
    "help(sum_args)"
   ]
  },
  {
   "cell_type": "code",
   "execution_count": 6,
   "metadata": {
    "ExecuteTime": {
     "end_time": "2022-05-28T17:56:42.737427Z",
     "start_time": "2022-05-28T17:56:42.729008Z"
    },
    "slideshow": {
     "slide_type": "slide"
    }
   },
   "outputs": [
    {
     "name": "stdout",
     "output_type": "stream",
     "text": [
      "Args are: (1, 2, 3)\n",
      "6\n",
      "6\n",
      "Help on function the_modified_function in module __main__:\n",
      "\n",
      "the_modified_function(*args)\n",
      "\n"
     ]
    }
   ],
   "source": [
    "@my_cache\n",
    "def sum_args(*args):\n",
    "    'This function sums all args'\n",
    "    print(\"Args are: {}\".format(args))\n",
    "    return sum(args)\n",
    "\n",
    "print(sum_args(1, 2, 3))\n",
    "print(sum_args(1, 2, 3))\n",
    "help(sum_args)"
   ]
  },
  {
   "cell_type": "code",
   "execution_count": 7,
   "metadata": {
    "ExecuteTime": {
     "end_time": "2022-05-28T17:56:42.746031Z",
     "start_time": "2022-05-28T17:56:42.739654Z"
    },
    "slideshow": {
     "slide_type": "slide"
    }
   },
   "outputs": [],
   "source": [
    "from functools import wraps\n",
    "\n",
    "def my_cache(the_original_function):\n",
    "    \n",
    "    @wraps(the_original_function)\n",
    "    def the_modified_function(*args):\n",
    "        if args not in cache:\n",
    "            cache[args] = the_original_function(*args)\n",
    "        return cache[args]    \n",
    "    cache = {}\n",
    "    return the_modified_function"
   ]
  },
  {
   "cell_type": "code",
   "execution_count": 8,
   "metadata": {
    "ExecuteTime": {
     "end_time": "2022-05-28T17:56:42.755985Z",
     "start_time": "2022-05-28T17:56:42.747849Z"
    },
    "slideshow": {
     "slide_type": "slide"
    }
   },
   "outputs": [
    {
     "name": "stdout",
     "output_type": "stream",
     "text": [
      "Args are: (1, 2, 3)\n",
      "6\n",
      "6\n",
      "Help on function sum_args in module __main__:\n",
      "\n",
      "sum_args(*args)\n",
      "    This function sums all args\n",
      "\n"
     ]
    }
   ],
   "source": [
    "@my_cache\n",
    "def sum_args(*args):\n",
    "    'This function sums all args'\n",
    "    print(\"Args are: {}\".format(args))\n",
    "    return sum(args)\n",
    "\n",
    "print(sum_args(1, 2, 3))\n",
    "print(sum_args(1, 2, 3))\n",
    "help(sum_args)"
   ]
  },
  {
   "cell_type": "markdown",
   "metadata": {
    "slideshow": {
     "slide_type": "slide"
    }
   },
   "source": [
    "### También podemos pasar parámetros al decorador..."
   ]
  },
  {
   "cell_type": "code",
   "execution_count": 9,
   "metadata": {
    "ExecuteTime": {
     "end_time": "2022-05-28T17:56:42.766908Z",
     "start_time": "2022-05-28T17:56:42.758049Z"
    }
   },
   "outputs": [],
   "source": [
    "def my_cache(max_size=None):    \n",
    "    def previous_decorator(the_original_function):\n",
    "        cache = {}\n",
    "        \n",
    "        @wraps(the_original_function)\n",
    "        def the_modified_function(*args):\n",
    "            if args not in cache:\n",
    "                cache[args] = the_original_function(*args)\n",
    "            \n",
    "            value = cache[args]    \n",
    "            \n",
    "            if max_size is not None and len(cache) > max_size:\n",
    "                print('here we should remove the oldest entry')            \n",
    "            return value\n",
    "        \n",
    "        return the_modified_function\n",
    "    \n",
    "    return previous_decorator"
   ]
  },
  {
   "cell_type": "code",
   "execution_count": 10,
   "metadata": {
    "ExecuteTime": {
     "end_time": "2022-05-28T17:56:42.778865Z",
     "start_time": "2022-05-28T17:56:42.770897Z"
    },
    "slideshow": {
     "slide_type": "slide"
    }
   },
   "outputs": [
    {
     "name": "stdout",
     "output_type": "stream",
     "text": [
      "Args are: (1, 2, 3)\n",
      "6\n",
      "Args are: (1,)\n",
      "1\n",
      "Args are: (1, 2)\n",
      "here we should remove the oldest entry\n",
      "3\n"
     ]
    }
   ],
   "source": [
    "@my_cache(2)\n",
    "def sum_args(*args):\n",
    "    'This function sums all args'\n",
    "    print(\"Args are: {}\".format(args))\n",
    "    return sum(args)\n",
    "\n",
    "print(sum_args(1, 2, 3))\n",
    "print(sum_args(1,))\n",
    "print(sum_args(1, 2,))"
   ]
  }
 ],
 "metadata": {
  "celltoolbar": "Slideshow",
  "hide_input": false,
  "kernelspec": {
   "display_name": "Python 3 (ipykernel)",
   "language": "python",
   "name": "python3"
  },
  "language_info": {
   "codemirror_mode": {
    "name": "ipython",
    "version": 3
   },
   "file_extension": ".py",
   "mimetype": "text/x-python",
   "name": "python",
   "nbconvert_exporter": "python",
   "pygments_lexer": "ipython3",
   "version": "3.8.10"
  },
  "toc": {
   "base_numbering": 1,
   "nav_menu": {},
   "number_sections": false,
   "sideBar": true,
   "skip_h1_title": false,
   "title_cell": "Table of Contents",
   "title_sidebar": "Contents",
   "toc_cell": false,
   "toc_position": {},
   "toc_section_display": true,
   "toc_window_display": false
  }
 },
 "nbformat": 4,
 "nbformat_minor": 2
}
