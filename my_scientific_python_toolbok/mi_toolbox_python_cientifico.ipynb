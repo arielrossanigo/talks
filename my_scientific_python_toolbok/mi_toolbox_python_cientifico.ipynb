{
 "cells": [
  {
   "cell_type": "markdown",
   "metadata": {
    "slideshow": {
     "slide_type": "slide"
    }
   },
   "source": [
    "# (Mi) Python toolbox científico\n",
    "\n",
    "\n",
    "\n",
    "\n",
    "\n",
    "\n",
    "\n",
    "\n",
    "\n",
    "**Ariel Rossanigo**\n"
   ]
  },
  {
   "cell_type": "markdown",
   "metadata": {
    "slideshow": {
     "slide_type": "slide"
    }
   },
   "source": [
    "### Quien soy?\n",
    "\n",
    "* Ariel Rossanigo\n",
    "* Profe de Inteligencia Artificial\n",
    "* Developer, Data Scientist\n",
    "\n"
   ]
  },
  {
   "cell_type": "markdown",
   "metadata": {
    "slideshow": {
     "slide_type": "slide"
    }
   },
   "source": [
    "### Motivación de la charla\n",
    "\n",
    "*A menudo me preguntan que hago e inmediatamente después vienen las preguntas* \n",
    "\n",
    "* ¿Python trae de eso?\n",
    "* ¿No es lento?\n",
    "* ¿Por qué no usas [nombre conocido acá]?\n",
    "* **¿Qué se necesita para hacer eso?**"
   ]
  },
  {
   "cell_type": "markdown",
   "metadata": {
    "slideshow": {
     "slide_type": "slide"
    }
   },
   "source": [
    "### Objetivos de la charla\n",
    "\n",
    "* Contar porqué Python y desmistificar la parte de **científico**\n",
    "* Mostrar las herramientas/librerías que uso\n"
   ]
  },
  {
   "cell_type": "markdown",
   "metadata": {
    "slideshow": {
     "slide_type": "slide"
    }
   },
   "source": [
    "### ¿Por qué científico?\n",
    "\n",
    "* Son herramientas para trabajar en cosas que suelen estar relacionadas a ciencia\n",
    "* **Cualquiera las puede usar**\n",
    "* Su uso es cada vez más común (al menos para mi :p)"
   ]
  },
  {
   "cell_type": "markdown",
   "metadata": {
    "slideshow": {
     "slide_type": "slide"
    }
   },
   "source": [
    "#### ¿Qué hace un científico?\n",
    "\n",
    "* Procesa y visualiza datos\n",
    "* Propone hipótesis y modelos\n",
    "* Genera predicciones con el modelo y valida las hipótesis\n",
    "* Comunica resultados "
   ]
  },
  {
   "cell_type": "markdown",
   "metadata": {
    "slideshow": {
     "slide_type": "slide"
    }
   },
   "source": [
    "#### ¿Qué necesita un científico?\n",
    "\n",
    "* Lenguaje de programación simple...\n",
    "* Con herramientas que le simplifiquen su trabajo...\n",
    "* Que sea rápido para desarrollar y ejecutar...\n",
    "* Que sea lo suficientemente versatil a la hora de pasar a producción"
   ]
  },
  {
   "cell_type": "markdown",
   "metadata": {
    "slideshow": {
     "slide_type": "slide"
    }
   },
   "source": [
    "### ¿Porqué Python?\n",
    "\n",
    "* **Muchas herramientas científicas**\n",
    "* Código abierto y gratuito\n",
    "* Está ganando mucha popularidad en el ambiente científico\n",
    "* **Permite llevar cosas a producción de manera directa**\n",
    "* Es lenteja... pero la mayoría del cálculo pesado ya está implementado en algo más rápido...\n"
   ]
  },
  {
   "cell_type": "markdown",
   "metadata": {
    "slideshow": {
     "slide_type": "slide"
    }
   },
   "source": [
    "## (Mi) Python toolbox científico\n",
    "\n",
    "* IPython + **Jupyter notebook** + **RISE**  \n",
    "* Numpy +  SciPy                  \n",
    "* **Pandas**     \n",
    "* bokeh          \n",
    "* **Matplotlib** \n",
    "* seaborn        \n",
    "* **sklearn**    \n",
    "* keras          \n",
    "* tensorflow     \n",
    "\n",
    "*Todo esto además de lo normal: virtualenv, pip, etc...*"
   ]
  },
  {
   "cell_type": "markdown",
   "metadata": {
    "slideshow": {
     "slide_type": "slide"
    }
   },
   "source": [
    "#### IPython \n",
    "\n",
    "* Interprete interactivo con esteroides\n",
    "* es un kernel para Jupyter notebook \n",
    "\n",
    "#### Jupyter notebook\n",
    "\n",
    "* Project Jupyter was born out of the IPython Project in 2014 as it evolved to support interactive data science and scientific computing across all programming languages.\n",
    "\n",
    "* El notebook es un interprete interactivo en la web, pero que permite mezclar código, videos, imágenes, markdown, latex y gráficas...\n",
    "\n",
    "* Un notebook es una sucesión de celdas, donde cada una puede ser código, texto, etc"
   ]
  },
  {
   "cell_type": "markdown",
   "metadata": {
    "slideshow": {
     "slide_type": "slide"
    }
   },
   "source": [
    "#### RISE (Reveal.js Ipython Slideshow Extension)\n",
    "\n",
    "* Extensión del notebook para poder hacer presentaciones (como esta)\n",
    "* La presentación es **ejecutable**"
   ]
  },
  {
   "cell_type": "code",
   "execution_count": null,
   "metadata": {
    "collapsed": false
   },
   "outputs": [],
   "source": [
    "print('Hola')"
   ]
  },
  {
   "cell_type": "markdown",
   "metadata": {
    "slideshow": {
     "slide_type": "slide"
    }
   },
   "source": [
    "### Numpy\n",
    "\n",
    "* Arrays multidimensionales implementados de manera eficiente (escritos en C)\n",
    "* Base para muchos de los paquetes científicos en Python\n",
    "\n",
    "### SciPy library\n",
    "\n",
    "* biblioteca de submódulos específicos para distintas aplicaciones:\n",
    "\n",
    " * signal: procesamiento de señales\n",
    " * stats: cálculo de estadísticas\n",
    " * sparse: matrices dispersas o rala\n",
    " * ...\n"
   ]
  },
  {
   "cell_type": "markdown",
   "metadata": {
    "slideshow": {
     "slide_type": "slide"
    }
   },
   "source": [
    "### Pandas (Python Data Analysis Library)\n",
    "\n",
    "* Herramienta por defecto para trabajar con datos en Python\n",
    "\n",
    "* Usa numpy por detrás...\n",
    " * pero propone abstracciones más copadas como ser Serie y DataFrame\n",
    " * permite manipulaciones de datos a la SQL\n",
    "\n",
    "Veamos un poco que se puede hacer con lo dicho hasta acá con un ejemplo...\n",
    "\n"
   ]
  },
  {
   "cell_type": "markdown",
   "metadata": {
    "slideshow": {
     "slide_type": "slide"
    }
   },
   "source": [
    "### El ejemplo: Netflix prize (2009)\n",
    "\n",
    "* 1MM USD para el ganador\n",
    "* 17.770 películas  (en un txt llamado movie_titles.txt)\n",
    "* 480.000 usuarios\n",
    "* **100.480.507 votaciones** repartidas en (17.770 archivos de texto)\n",
    "\n",
    "#### Objetivo del concurso\n",
    "\n",
    "*Crear un modelo que prediga las predicciones de ciertos usuarios para ciertas películas que no están en los datos*\n",
    "\n",
    "#### Nuestro objetivo\n",
    "\n",
    "*Mostrar un poco las cosas que se pueden hacer...*"
   ]
  },
  {
   "cell_type": "markdown",
   "metadata": {
    "slideshow": {
     "slide_type": "slide"
    }
   },
   "source": [
    "**Leyendo un csv**"
   ]
  },
  {
   "cell_type": "code",
   "execution_count": null,
   "metadata": {
    "collapsed": false,
    "slideshow": {
     "slide_type": "-"
    }
   },
   "outputs": [],
   "source": [
    "from IPython.display import display\n",
    "import numpy as np\n",
    "import pandas as pd\n",
    "from utils import data_path # esto es una función para no lidiar con paths\n",
    "\n",
    "movies = pd.read_csv(data_path('movie_titles.txt'), \n",
    "                     names=['movie_id', 'year_of_release', 'title'], \n",
    "                     index_col='movie_id',\n",
    "                     encoding='latin-1')\n",
    "\n",
    "print(\"Cantidad de películas: {:,}\".format(len(movies)))\n",
    "movies.head()"
   ]
  },
  {
   "cell_type": "markdown",
   "metadata": {
    "slideshow": {
     "slide_type": "slide"
    }
   },
   "source": [
    "**Algunas operaciones**"
   ]
  },
  {
   "cell_type": "code",
   "execution_count": null,
   "metadata": {
    "collapsed": false
   },
   "outputs": [],
   "source": [
    "# sumarizaciones \n",
    "first_year = movies.year_of_release.min()\n",
    "print(\"Primer año en que se hizo un release: {}\".format(first_year))\n",
    "\n",
    "# filtrando las peliculas de ese primer año\n",
    "display(movies[movies.year_of_release==first_year])\n",
    "\n",
    "# peliculas de este milenio que tengan en el nombre Monty\n",
    "display(movies[(movies.year_of_release >= 2000) & (movies.title.str.contains('Monty'))])"
   ]
  },
  {
   "cell_type": "code",
   "execution_count": null,
   "metadata": {
    "collapsed": false,
    "slideshow": {
     "slide_type": "slide"
    }
   },
   "outputs": [],
   "source": [
    "# que magia hay en ese filtro...\n",
    "# display(movies[(movies.year_of_release >= 2000) & (movies.title.str.contains('Monty'))])\n",
    "\n",
    "display((movies.year_of_release >= 2000).head())"
   ]
  },
  {
   "cell_type": "markdown",
   "metadata": {
    "slideshow": {
     "slide_type": "slide"
    }
   },
   "source": [
    "### Leyendo desde un pickle algunos votos"
   ]
  },
  {
   "cell_type": "code",
   "execution_count": null,
   "metadata": {
    "collapsed": false
   },
   "outputs": [],
   "source": [
    "all_ratings = pd.read_pickle(data_path('ratings.pkl'))\n",
    "print('Numero de ratings: {:,}'.format(len(all_ratings)))\n",
    "all_ratings.head()"
   ]
  },
  {
   "cell_type": "markdown",
   "metadata": {
    "slideshow": {
     "slide_type": "slide"
    }
   },
   "source": [
    "#### 5 MM de registros... seguro me mato la RAM...."
   ]
  },
  {
   "cell_type": "code",
   "execution_count": null,
   "metadata": {
    "collapsed": false
   },
   "outputs": [],
   "source": [
    "all_ratings.info()"
   ]
  },
  {
   "cell_type": "markdown",
   "metadata": {
    "slideshow": {
     "slide_type": "fragment"
    }
   },
   "source": [
    "**Al final consume menos que la pestaña del candy crush...**"
   ]
  },
  {
   "cell_type": "markdown",
   "metadata": {
    "slideshow": {
     "slide_type": "slide"
    }
   },
   "source": [
    "### Y si queremos ver los datos de las películas... "
   ]
  },
  {
   "cell_type": "code",
   "execution_count": null,
   "metadata": {
    "collapsed": false
   },
   "outputs": [],
   "source": [
    "# algo así como un join de SQL\n",
    "all_together = pd.merge(movies, all_ratings, left_index=True, right_on='movie_id')\n",
    "\n",
    "print('Numero de ratings: {:,}'.format(len(all_together)))\n",
    "display(all_together.head())"
   ]
  },
  {
   "cell_type": "markdown",
   "metadata": {
    "slideshow": {
     "slide_type": "slide"
    }
   },
   "source": [
    "#### Top 10 Películas más votadas"
   ]
  },
  {
   "cell_type": "code",
   "execution_count": null,
   "metadata": {
    "collapsed": false
   },
   "outputs": [],
   "source": [
    "top_10 = (all_together.groupby(['movie_id', 'title']).movie_id.count()\n",
    "                      .sort_values(ascending=False)\n",
    "                      .head(10))\n",
    "display(top_10)"
   ]
  },
  {
   "cell_type": "markdown",
   "metadata": {
    "slideshow": {
     "slide_type": "slide"
    }
   },
   "source": [
    "#### Cantidad de peliculas lanzadas por año"
   ]
  },
  {
   "cell_type": "code",
   "execution_count": null,
   "metadata": {
    "collapsed": false
   },
   "outputs": [],
   "source": [
    "by_year = movies.groupby(movies.year_of_release).size().sort_index()\n",
    "by_year.head()"
   ]
  },
  {
   "cell_type": "markdown",
   "metadata": {
    "slideshow": {
     "slide_type": "fragment"
    }
   },
   "source": [
    "**Esto no dice mucho...**"
   ]
  },
  {
   "cell_type": "markdown",
   "metadata": {
    "slideshow": {
     "slide_type": "slide"
    }
   },
   "source": [
    "### Una imagen vale más que mil números...\n",
    "\n",
    "**Matplotlib**\n",
    "\n",
    "* Es el paquete más usado para graficar en 2D en Python\n",
    "* Tiene un modo de sintaxis similar a Matlab\n",
    "* Los gráficos se pueden incluír directamente en el notebook\n",
    "* Tiene integración con Pandas\n",
    "\n",
    "\n",
    "También están **bokeh**, **seaborn** y muchas más..."
   ]
  },
  {
   "cell_type": "markdown",
   "metadata": {
    "slideshow": {
     "slide_type": "slide"
    }
   },
   "source": [
    "#### Cantidad de peliculas lanzadas por año"
   ]
  },
  {
   "cell_type": "code",
   "execution_count": null,
   "metadata": {
    "collapsed": false
   },
   "outputs": [],
   "source": [
    "%matplotlib inline\n",
    "import matplotlib\n",
    "\n",
    "# ahora solo lo importo para que me cargue los styles \n",
    "import seaborn as sns\n",
    "\n",
    "# configuro el tamaño por default para los gráficos\n",
    "from matplotlib.pylab import rcParams\n",
    "rcParams['figure.figsize'] = 15, 4\n",
    "\n",
    "by_year.plot()"
   ]
  },
  {
   "cell_type": "markdown",
   "metadata": {
    "slideshow": {
     "slide_type": "slide"
    }
   },
   "source": [
    "#### Peliculas y votos "
   ]
  },
  {
   "cell_type": "code",
   "execution_count": null,
   "metadata": {
    "collapsed": false
   },
   "outputs": [],
   "source": [
    "stars = pd.crosstab([all_together.movie_id, all_together.title], all_together.stars)\n",
    "stars.columns = list(map(str, stars))\n",
    "stars.head()"
   ]
  },
  {
   "cell_type": "markdown",
   "metadata": {
    "slideshow": {
     "slide_type": "slide"
    }
   },
   "source": [
    "#### Expresado en porcentajes... (normalizado)"
   ]
  },
  {
   "cell_type": "code",
   "execution_count": null,
   "metadata": {
    "collapsed": false
   },
   "outputs": [],
   "source": [
    "normalized = stars.div(stars.sum(axis=1), axis=0)\n",
    "normalized.head()"
   ]
  },
  {
   "cell_type": "markdown",
   "metadata": {
    "slideshow": {
     "slide_type": "fragment"
    }
   },
   "source": [
    "### ¿Cómo podemos diferenciar las buenas de las malas?\n"
   ]
  },
  {
   "cell_type": "markdown",
   "metadata": {
    "slideshow": {
     "slide_type": "slide"
    }
   },
   "source": [
    "### sklearn (Machine learning in Python)\n",
    "\n",
    "* Tiene un poco de todo en relación a machine learning\n",
    " * Preprocesamiento\n",
    " * Clasificación y Regresión\n",
    " * Clustering\n",
    " * Reducción de dimensionalidad\n",
    " * Métricas\n",
    "\n",
    "* Esta hecho arriba de NumPy, SciPy y matplotlib"
   ]
  },
  {
   "cell_type": "markdown",
   "metadata": {
    "slideshow": {
     "slide_type": "slide"
    }
   },
   "source": [
    "### ¿Cómo podemos diferenciar las buenas de las malas?\n"
   ]
  },
  {
   "cell_type": "code",
   "execution_count": null,
   "metadata": {
    "collapsed": false
   },
   "outputs": [],
   "source": [
    "from sklearn.cluster import KMeans\n",
    "model = KMeans(3, random_state=1) # 3 grupos, semilla random fijada para estos ejemplos\n",
    "model.fit(normalized)\n",
    "labels = model.predict(normalized)\n",
    "display(labels[:5])\n",
    "display(normalized[:5])"
   ]
  },
  {
   "cell_type": "code",
   "execution_count": null,
   "metadata": {
    "collapsed": false,
    "slideshow": {
     "slide_type": "slide"
    }
   },
   "outputs": [],
   "source": [
    "film_ratings = ['Maso', 'Buena', 'Mala']\n",
    "normalized['group'] = 'Maso'\n",
    "normalized.loc[labels==1, 'group'] = 'Buena'\n",
    "normalized.loc[labels==2, 'group'] = 'Mala'\n",
    "normalized.head()"
   ]
  },
  {
   "cell_type": "markdown",
   "metadata": {
    "slideshow": {
     "slide_type": "slide"
    }
   },
   "source": [
    "#### Cómo podemos ver algo que represente los grupos??"
   ]
  },
  {
   "cell_type": "code",
   "execution_count": null,
   "metadata": {
    "collapsed": false,
    "slideshow": {
     "slide_type": "fragment"
    }
   },
   "outputs": [],
   "source": [
    "import radar  # auxiliar para armar el gráfico...\n",
    "\n",
    "df = pd.DataFrame(model.cluster_centers_)\n",
    "df.columns=[str(x+1) for x in range(5)]\n",
    "radar.plot_radar(df, df.columns, legends=[film_ratings[x] for x in df.index])"
   ]
  },
  {
   "cell_type": "markdown",
   "metadata": {
    "slideshow": {
     "slide_type": "slide"
    }
   },
   "source": [
    "### Si queremos ver no solo los centros...."
   ]
  },
  {
   "cell_type": "code",
   "execution_count": null,
   "metadata": {
    "collapsed": false,
    "scrolled": false,
    "slideshow": {
     "slide_type": "-"
    }
   },
   "outputs": [],
   "source": [
    "d = normalized[:500].copy()\n",
    "d['color'] = 'g'\n",
    "d.loc[d.group=='Mala', 'color'] = 'r'\n",
    "d.loc[d.group=='Maso', 'color'] = 'b'\n",
    "\n",
    "radar.plot_radar(d, titles=[str(x+1) for x in range(5)], colors=d.color, normalize=True, fill=False)"
   ]
  },
  {
   "cell_type": "markdown",
   "metadata": {},
   "source": [
    "**No se entiende demasiado....** "
   ]
  },
  {
   "cell_type": "markdown",
   "metadata": {
    "slideshow": {
     "slide_type": "slide"
    }
   },
   "source": [
    "#### Vamos a quedarnos con la cantidad de estrellas que más valor tiene "
   ]
  },
  {
   "cell_type": "code",
   "execution_count": null,
   "metadata": {
    "collapsed": false
   },
   "outputs": [],
   "source": [
    "normalized.head()"
   ]
  },
  {
   "cell_type": "code",
   "execution_count": null,
   "metadata": {
    "collapsed": false
   },
   "outputs": [],
   "source": [
    "s = normalized.loc[:, '1':'5'].idxmax(axis=1)\n",
    "s.head()"
   ]
  },
  {
   "cell_type": "code",
   "execution_count": null,
   "metadata": {
    "collapsed": false
   },
   "outputs": [],
   "source": [
    "v = normalized.loc[:, '1':'5'].max(axis=1)\n",
    "v.head()"
   ]
  },
  {
   "cell_type": "code",
   "execution_count": null,
   "metadata": {
    "collapsed": false,
    "slideshow": {
     "slide_type": "slide"
    }
   },
   "outputs": [],
   "source": [
    "df = pd.DataFrame({'star': (s.values.astype(np.int16) + \n",
    "                            np.random.normal(scale=0.15, size=len(normalized))), \n",
    "                   'value': v.values,\n",
    "                   'group': normalized['group']})\n",
    "\n",
    "ax = df[df.group=='Mala'].plot.scatter(x='star', y='value', color='r', label='Mala', figsize=(12, 6), alpha=0.6)\n",
    "df[df.group=='Maso'].plot.scatter(x='star', y='value', color='b', label='maso', ax=ax, alpha=0.6)\n",
    "df[df.group=='Buena'].plot.scatter(x='star', y='value', color='g', label='Buena', ax=ax, alpha=0.6);"
   ]
  },
  {
   "cell_type": "markdown",
   "metadata": {
    "slideshow": {
     "slide_type": "slide"
    }
   },
   "source": [
    "### Gracias! ¿Preguntas?\n",
    "\n",
    "Si me quieren contactar:\n",
    "\n",
    "* arielrossanigo@gmail.com\n",
    "* @arielrossanigo\n",
    "* https://github.com/arielrossanigo"
   ]
  }
 ],
 "metadata": {
  "celltoolbar": "Slideshow",
  "kernelspec": {
   "display_name": "Python 3",
   "language": "python",
   "name": "python3"
  },
  "language_info": {
   "codemirror_mode": {
    "name": "ipython",
    "version": 3
   },
   "file_extension": ".py",
   "mimetype": "text/x-python",
   "name": "python",
   "nbconvert_exporter": "python",
   "pygments_lexer": "ipython3",
   "version": "3.5.1+"
  }
 },
 "nbformat": 4,
 "nbformat_minor": 0
}
