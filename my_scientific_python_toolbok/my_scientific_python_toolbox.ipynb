{
 "cells": [
  {
   "cell_type": "markdown",
   "metadata": {
    "slideshow": {
     "slide_type": "slide"
    }
   },
   "source": [
    "# (My) Scientific Python Toolbox\n",
    "\n",
    "\n",
    "\n",
    "\n",
    "\n",
    "\n",
    "\n",
    "\n",
    "**Ariel Rossanigo**\n"
   ]
  },
  {
   "cell_type": "markdown",
   "metadata": {
    "slideshow": {
     "slide_type": "slide"
    }
   },
   "source": [
    "### About me\n",
    "\n",
    "* Ariel Rossanigo\n",
    "* Artificial Intelligence Professor at UCSE-DAR\n",
    "* Developer, Data Scientist\n",
    "\n"
   ]
  },
  {
   "cell_type": "markdown",
   "metadata": {
    "slideshow": {
     "slide_type": "slide"
    }
   },
   "source": [
    "### Motivation\n",
    "\n",
    "*Often people ask me about what I do and immmediatly the conversation turns to questions like:*\n",
    "\n",
    "* Python? It's helpful for that?\n",
    "* Isn't slowly?\n",
    "* Why you don't use [put some knowed name here]?\n",
    "* **What it's needed to do that?**\n"
   ]
  },
  {
   "cell_type": "markdown",
   "metadata": {
    "slideshow": {
     "slide_type": "slide"
    }
   },
   "source": [
    "### Goals\n",
    "\n",
    "* Share why Python and desmistify the **scientific** side\n",
    "* Show the tools I use with some examples\n"
   ]
  },
  {
   "cell_type": "markdown",
   "metadata": {
    "slideshow": {
     "slide_type": "slide"
    }
   },
   "source": [
    "### Why scientific?\n",
    "\n",
    "* These are tools commonly related to scientific projects, but...\n",
    "* **Everyone can take advantage of them**"
   ]
  },
  {
   "cell_type": "markdown",
   "metadata": {
    "slideshow": {
     "slide_type": "slide"
    }
   },
   "source": [
    "#### What a scientific do?\n",
    "\n",
    "* Process and visualize data\n",
    "* Propose hypotheses and models\n",
    "* Make predictions with the model and validate the hypotheses\n",
    "* Communicate results"
   ]
  },
  {
   "cell_type": "markdown",
   "metadata": {
    "slideshow": {
     "slide_type": "slide"
    }
   },
   "source": [
    "#### What a scientific needs?\n",
    "\n",
    "* An easy programming language...\n",
    "* With tools that simplify his job...\n",
    "* Fast to develop and execute...\n",
    "* Able to be deployed in production..."
   ]
  },
  {
   "cell_type": "markdown",
   "metadata": {
    "slideshow": {
     "slide_type": "slide"
    }
   },
   "source": [
    "### Why Python?\n",
    "\n",
    "* It's the language I know since many years...\n"
   ]
  },
  {
   "cell_type": "markdown",
   "metadata": {
    "slideshow": {
     "slide_type": "slide"
    }
   },
   "source": [
    "### Why Python?\n",
    "\n",
    "* It's the language I know since many years... and nothing made me change the election...\n",
    "* Enables you to make almost everything... \n",
    "* Open source and free - Licence can be summarize as *Do whatever you want*\n",
    "* **Lot of scientific tools** \n",
    "* **Enables to prototype models and deploy these in production environments**\n",
    "* It's **slow** but every tool for heavy duty it's implemented in something faster...\n"
   ]
  },
  {
   "cell_type": "markdown",
   "metadata": {
    "slideshow": {
     "slide_type": "slide"
    }
   },
   "source": [
    "## (My) Scientific Python Toolbox\n",
    "\n",
    "* IPython + **Jupyter notebook** + **RISE**  \n",
    "* Numpy +  SciPy                  \n",
    "* **Pandas**     \n",
    "* bokeh          \n",
    "* **Matplotlib** \n",
    "* seaborn        \n",
    "* **sklearn**    \n",
    "* keras          \n",
    "* tensorflow     \n",
    "\n",
    "*All these apart from the normal: virtualenv, pip, git, etc...*"
   ]
  },
  {
   "cell_type": "markdown",
   "metadata": {
    "slideshow": {
     "slide_type": "slide"
    }
   },
   "source": [
    "#### IPython \n",
    "\n",
    "* python interactive interpreter with steroids\n",
    "* kernel for Jupyter notebook\n",
    "\n",
    "#### Jupyter notebook\n",
    "\n",
    "* Project Jupyter was born out of the IPython Project in 2014 as it evolved to support interactive data science and scientific computing across all programming languages.\n",
    "\n",
    "* The notebook it's an interactive interpreter with a web interface that it's composed as a secuence of cells, where everyone can be of different types, for example: code, videos, images, markdown, graphs... even latex...\n",
    "\n",
    "$$c = \\sqrt{a^2 + b^2}$$\n"
   ]
  },
  {
   "cell_type": "markdown",
   "metadata": {
    "slideshow": {
     "slide_type": "slide"
    }
   },
   "source": [
    "#### RISE (Reveal.js Ipython Slideshow Extension)\n",
    "\n",
    "* Notebook extension to make presentations (like this one)\n",
    "* The presentation is executable"
   ]
  },
  {
   "cell_type": "code",
   "execution_count": 2,
   "metadata": {
    "collapsed": false
   },
   "outputs": [
    {
     "name": "stdout",
     "output_type": "stream",
     "text": [
      "Hola a todas!\n",
      "Hola a todas!\n"
     ]
    }
   ],
   "source": [
    "for x in range(2):\n",
    "    print('Hola a todas!')"
   ]
  },
  {
   "cell_type": "markdown",
   "metadata": {
    "slideshow": {
     "slide_type": "slide"
    }
   },
   "source": [
    "### Numpy\n",
    "\n",
    "* Multidimensional arrays implemented in an eficient way\n",
    "* It's the cornerstone of almost every scientific Python tool\n",
    "\n",
    "### SciPy library\n",
    "\n",
    "* Provides many user-friendly and efficient numerical routines for different topics, ie:\n",
    "\n",
    " * signal: signal processing\n",
    " * stats: probability distributions and statistical functions.\n",
    " * sparse: 2-D sparse matrix package\n",
    " * ...\n"
   ]
  },
  {
   "cell_type": "markdown",
   "metadata": {
    "slideshow": {
     "slide_type": "slide"
    }
   },
   "source": [
    "### Pandas (Python Data Analysis Library)\n",
    "\n",
    "* The *de facto* tool to work with data in Python\n",
    "* Use numpy behind the scenes but...\n",
    " * propose cooler abstractions like Series and Dataframes\n",
    " * allows data manipulation in a SQL way\n",
    "\n",
    "Let's see what we can do with the tools showed so far with an example...\n"
   ]
  },
  {
   "cell_type": "markdown",
   "metadata": {
    "slideshow": {
     "slide_type": "slide"
    }
   },
   "source": [
    "### The example: Netflix prize (2009)\n",
    "\n",
    "* 1MM USD for the winner\n",
    "* 17.770 movies (these are listed in a text file named movie_titles.txt)\n",
    "* 480.000 users\n",
    "* **100.480.507 votations** distributed in 17.770 text files\n",
    "\n",
    "#### Challenge goal\n",
    "\n",
    "*Create a model to predict user predictions for some movies not in data*\n",
    "\n",
    "#### Our goal\n",
    "\n",
    "*Show the things we can do with the tools previously showed*"
   ]
  },
  {
   "cell_type": "markdown",
   "metadata": {
    "slideshow": {
     "slide_type": "slide"
    }
   },
   "source": [
    "**Reading a csv**"
   ]
  },
  {
   "cell_type": "code",
   "execution_count": 3,
   "metadata": {
    "collapsed": false,
    "slideshow": {
     "slide_type": "-"
    }
   },
   "outputs": [
    {
     "name": "stdout",
     "output_type": "stream",
     "text": [
      "Number of movies: 17,770\n"
     ]
    },
    {
     "data": {
      "text/html": [
       "<div>\n",
       "<table border=\"1\" class=\"dataframe\">\n",
       "  <thead>\n",
       "    <tr style=\"text-align: right;\">\n",
       "      <th></th>\n",
       "      <th>year_of_release</th>\n",
       "      <th>title</th>\n",
       "    </tr>\n",
       "    <tr>\n",
       "      <th>movie_id</th>\n",
       "      <th></th>\n",
       "      <th></th>\n",
       "    </tr>\n",
       "  </thead>\n",
       "  <tbody>\n",
       "    <tr>\n",
       "      <th>1</th>\n",
       "      <td>2003.0</td>\n",
       "      <td>Dinosaur Planet</td>\n",
       "    </tr>\n",
       "    <tr>\n",
       "      <th>2</th>\n",
       "      <td>2004.0</td>\n",
       "      <td>Isle of Man TT 2004 Review</td>\n",
       "    </tr>\n",
       "    <tr>\n",
       "      <th>3</th>\n",
       "      <td>1997.0</td>\n",
       "      <td>Character</td>\n",
       "    </tr>\n",
       "    <tr>\n",
       "      <th>4</th>\n",
       "      <td>1994.0</td>\n",
       "      <td>Paula Abdul's Get Up &amp; Dance</td>\n",
       "    </tr>\n",
       "    <tr>\n",
       "      <th>5</th>\n",
       "      <td>2004.0</td>\n",
       "      <td>The Rise and Fall of ECW</td>\n",
       "    </tr>\n",
       "  </tbody>\n",
       "</table>\n",
       "</div>"
      ],
      "text/plain": [
       "          year_of_release                         title\n",
       "movie_id                                               \n",
       "1                  2003.0               Dinosaur Planet\n",
       "2                  2004.0    Isle of Man TT 2004 Review\n",
       "3                  1997.0                     Character\n",
       "4                  1994.0  Paula Abdul's Get Up & Dance\n",
       "5                  2004.0      The Rise and Fall of ECW"
      ]
     },
     "execution_count": 3,
     "metadata": {},
     "output_type": "execute_result"
    }
   ],
   "source": [
    "from IPython.display import display\n",
    "import numpy as np\n",
    "import pandas as pd\n",
    "from utils import data_path # this is a function to simplify path management\n",
    "\n",
    "movies = pd.read_csv(data_path('movie_titles.txt'), \n",
    "                     names=['movie_id', 'year_of_release', 'title'], \n",
    "                     index_col='movie_id',\n",
    "                     encoding='latin-1')\n",
    "\n",
    "print(\"Number of movies: {:,}\".format(len(movies)))\n",
    "movies.head()"
   ]
  },
  {
   "cell_type": "markdown",
   "metadata": {
    "slideshow": {
     "slide_type": "slide"
    }
   },
   "source": [
    "**Some operations with Pandas**"
   ]
  },
  {
   "cell_type": "code",
   "execution_count": 7,
   "metadata": {
    "collapsed": false
   },
   "outputs": [
    {
     "name": "stdout",
     "output_type": "stream",
     "text": [
      "First year a release was made: 1896.0\n"
     ]
    },
    {
     "data": {
      "text/html": [
       "<div>\n",
       "<table border=\"1\" class=\"dataframe\">\n",
       "  <thead>\n",
       "    <tr style=\"text-align: right;\">\n",
       "      <th></th>\n",
       "      <th>year_of_release</th>\n",
       "      <th>title</th>\n",
       "    </tr>\n",
       "    <tr>\n",
       "      <th>movie_id</th>\n",
       "      <th></th>\n",
       "      <th></th>\n",
       "    </tr>\n",
       "  </thead>\n",
       "  <tbody>\n",
       "    <tr>\n",
       "      <th>3150</th>\n",
       "      <td>2000.0</td>\n",
       "      <td>Monty Python: The Life of Python</td>\n",
       "    </tr>\n",
       "    <tr>\n",
       "      <th>9961</th>\n",
       "      <td>2001.0</td>\n",
       "      <td>Monty Python Live!</td>\n",
       "    </tr>\n",
       "  </tbody>\n",
       "</table>\n",
       "</div>"
      ],
      "text/plain": [
       "          year_of_release                             title\n",
       "movie_id                                                   \n",
       "3150               2000.0  Monty Python: The Life of Python\n",
       "9961               2001.0                Monty Python Live!"
      ]
     },
     "execution_count": 7,
     "metadata": {},
     "output_type": "execute_result"
    }
   ],
   "source": [
    "# aggregations \n",
    "first_year = movies.year_of_release.min()\n",
    "print(\"First year a release was made: {}\".format(first_year))\n",
    "\n",
    "# filtering the movies that were released that year\n",
    "(movies[movies.year_of_release==first_year])\n",
    "\n",
    "# movies from this millennium that have Monty in their name\n",
    "(movies[(movies.year_of_release >= 2000) & \n",
    "               (movies.title.str.contains('Monty'))])"
   ]
  },
  {
   "cell_type": "code",
   "execution_count": 8,
   "metadata": {
    "collapsed": false,
    "slideshow": {
     "slide_type": "slide"
    }
   },
   "outputs": [
    {
     "data": {
      "text/plain": [
       "movie_id\n",
       "1     True\n",
       "2     True\n",
       "3    False\n",
       "4    False\n",
       "5     True\n",
       "Name: year_of_release, dtype: bool"
      ]
     },
     "metadata": {},
     "output_type": "display_data"
    }
   ],
   "source": [
    "# What king of magic do that filter ??...\n",
    "# display(movies[(movies.year_of_release >= 2000) & (movies.title.str.contains('Monty'))])\n",
    "\n",
    "display((movies.year_of_release >= 2000).head())"
   ]
  },
  {
   "cell_type": "markdown",
   "metadata": {
    "slideshow": {
     "slide_type": "slide"
    }
   },
   "source": [
    "### Reading some votes from a pickle"
   ]
  },
  {
   "cell_type": "code",
   "execution_count": 9,
   "metadata": {
    "collapsed": false
   },
   "outputs": [
    {
     "name": "stdout",
     "output_type": "stream",
     "text": [
      "number of ratings: 5,331,219\n"
     ]
    },
    {
     "data": {
      "text/html": [
       "<div>\n",
       "<table border=\"1\" class=\"dataframe\">\n",
       "  <thead>\n",
       "    <tr style=\"text-align: right;\">\n",
       "      <th></th>\n",
       "      <th>cust_id</th>\n",
       "      <th>stars</th>\n",
       "      <th>date</th>\n",
       "      <th>movie_id</th>\n",
       "    </tr>\n",
       "  </thead>\n",
       "  <tbody>\n",
       "    <tr>\n",
       "      <th>0</th>\n",
       "      <td>1074029</td>\n",
       "      <td>5</td>\n",
       "      <td>2004-09-22</td>\n",
       "      <td>10347</td>\n",
       "    </tr>\n",
       "    <tr>\n",
       "      <th>1</th>\n",
       "      <td>101470</td>\n",
       "      <td>4</td>\n",
       "      <td>2005-02-22</td>\n",
       "      <td>10347</td>\n",
       "    </tr>\n",
       "    <tr>\n",
       "      <th>2</th>\n",
       "      <td>2257304</td>\n",
       "      <td>3</td>\n",
       "      <td>2005-03-12</td>\n",
       "      <td>10347</td>\n",
       "    </tr>\n",
       "    <tr>\n",
       "      <th>3</th>\n",
       "      <td>1700914</td>\n",
       "      <td>5</td>\n",
       "      <td>2005-05-15</td>\n",
       "      <td>10347</td>\n",
       "    </tr>\n",
       "    <tr>\n",
       "      <th>4</th>\n",
       "      <td>2491255</td>\n",
       "      <td>5</td>\n",
       "      <td>2005-11-04</td>\n",
       "      <td>10347</td>\n",
       "    </tr>\n",
       "  </tbody>\n",
       "</table>\n",
       "</div>"
      ],
      "text/plain": [
       "   cust_id  stars       date  movie_id\n",
       "0  1074029      5 2004-09-22     10347\n",
       "1   101470      4 2005-02-22     10347\n",
       "2  2257304      3 2005-03-12     10347\n",
       "3  1700914      5 2005-05-15     10347\n",
       "4  2491255      5 2005-11-04     10347"
      ]
     },
     "execution_count": 9,
     "metadata": {},
     "output_type": "execute_result"
    }
   ],
   "source": [
    "all_ratings = pd.read_pickle(data_path('ratings.pkl'))\n",
    "print('number of ratings: {:,}'.format(len(all_ratings)))\n",
    "all_ratings.head()"
   ]
  },
  {
   "cell_type": "markdown",
   "metadata": {
    "slideshow": {
     "slide_type": "slide"
    }
   },
   "source": [
    "#### 5 MM registers... quickly enough....\n",
    "\n",
    "####  What about the RAM consumption?"
   ]
  },
  {
   "cell_type": "code",
   "execution_count": 10,
   "metadata": {
    "collapsed": false
   },
   "outputs": [
    {
     "name": "stdout",
     "output_type": "stream",
     "text": [
      "<class 'pandas.core.frame.DataFrame'>\n",
      "Int64Index: 5331219 entries, 0 to 435\n",
      "Data columns (total 4 columns):\n",
      "cust_id     int64\n",
      "stars       int64\n",
      "date        datetime64[ns]\n",
      "movie_id    int64\n",
      "dtypes: datetime64[ns](1), int64(3)\n",
      "memory usage: 203.4 MB\n"
     ]
    }
   ],
   "source": [
    "all_ratings.info()"
   ]
  },
  {
   "cell_type": "markdown",
   "metadata": {
    "slideshow": {
     "slide_type": "slide"
    }
   },
   "source": [
    "### What happens if we want to show movies data along with votes?"
   ]
  },
  {
   "cell_type": "code",
   "execution_count": 11,
   "metadata": {
    "collapsed": false
   },
   "outputs": [
    {
     "name": "stdout",
     "output_type": "stream",
     "text": [
      "Number of ratings: 5,331,219\n"
     ]
    },
    {
     "data": {
      "text/html": [
       "<div>\n",
       "<table border=\"1\" class=\"dataframe\">\n",
       "  <thead>\n",
       "    <tr style=\"text-align: right;\">\n",
       "      <th></th>\n",
       "      <th>year_of_release</th>\n",
       "      <th>title</th>\n",
       "      <th>cust_id</th>\n",
       "      <th>stars</th>\n",
       "      <th>date</th>\n",
       "      <th>movie_id</th>\n",
       "    </tr>\n",
       "  </thead>\n",
       "  <tbody>\n",
       "    <tr>\n",
       "      <th>0</th>\n",
       "      <td>1988.0</td>\n",
       "      <td>Neil Diamond: Greatest Hits Live</td>\n",
       "      <td>862622</td>\n",
       "      <td>4</td>\n",
       "      <td>2004-10-15</td>\n",
       "      <td>15</td>\n",
       "    </tr>\n",
       "    <tr>\n",
       "      <th>1</th>\n",
       "      <td>1988.0</td>\n",
       "      <td>Neil Diamond: Greatest Hits Live</td>\n",
       "      <td>1513144</td>\n",
       "      <td>2</td>\n",
       "      <td>2005-05-02</td>\n",
       "      <td>15</td>\n",
       "    </tr>\n",
       "    <tr>\n",
       "      <th>2</th>\n",
       "      <td>1988.0</td>\n",
       "      <td>Neil Diamond: Greatest Hits Live</td>\n",
       "      <td>698624</td>\n",
       "      <td>3</td>\n",
       "      <td>2005-07-19</td>\n",
       "      <td>15</td>\n",
       "    </tr>\n",
       "    <tr>\n",
       "      <th>3</th>\n",
       "      <td>1988.0</td>\n",
       "      <td>Neil Diamond: Greatest Hits Live</td>\n",
       "      <td>1787269</td>\n",
       "      <td>5</td>\n",
       "      <td>2004-02-06</td>\n",
       "      <td>15</td>\n",
       "    </tr>\n",
       "    <tr>\n",
       "      <th>4</th>\n",
       "      <td>1988.0</td>\n",
       "      <td>Neil Diamond: Greatest Hits Live</td>\n",
       "      <td>1048253</td>\n",
       "      <td>3</td>\n",
       "      <td>2005-05-23</td>\n",
       "      <td>15</td>\n",
       "    </tr>\n",
       "  </tbody>\n",
       "</table>\n",
       "</div>"
      ],
      "text/plain": [
       "   year_of_release                             title  cust_id  stars  \\\n",
       "0           1988.0  Neil Diamond: Greatest Hits Live   862622      4   \n",
       "1           1988.0  Neil Diamond: Greatest Hits Live  1513144      2   \n",
       "2           1988.0  Neil Diamond: Greatest Hits Live   698624      3   \n",
       "3           1988.0  Neil Diamond: Greatest Hits Live  1787269      5   \n",
       "4           1988.0  Neil Diamond: Greatest Hits Live  1048253      3   \n",
       "\n",
       "        date  movie_id  \n",
       "0 2004-10-15        15  \n",
       "1 2005-05-02        15  \n",
       "2 2005-07-19        15  \n",
       "3 2004-02-06        15  \n",
       "4 2005-05-23        15  "
      ]
     },
     "metadata": {},
     "output_type": "display_data"
    }
   ],
   "source": [
    "# something like a SQL join\n",
    "all_together = pd.merge(movies, all_ratings, left_index=True, \n",
    "                        right_on='movie_id')\n",
    "\n",
    "print('Number of ratings: {:,}'.format(len(all_together)))\n",
    "display(all_together.head())"
   ]
  },
  {
   "cell_type": "markdown",
   "metadata": {
    "slideshow": {
     "slide_type": "slide"
    }
   },
   "source": [
    "#### Top 10 Most voted movies"
   ]
  },
  {
   "cell_type": "code",
   "execution_count": 12,
   "metadata": {
    "collapsed": false
   },
   "outputs": [
    {
     "data": {
      "text/plain": [
       "movie_id  title                 \n",
       "16377     The Green Mile            181425\n",
       "3860      Bruce Almighty            160453\n",
       "2782      Braveheart                135600\n",
       "4640      Rain Man                  122157\n",
       "30        Something's Gotta Give    118412\n",
       "10550     Cold Mountain             115584\n",
       "14574     You've Got Mail           110437\n",
       "15471     Phone Booth               103073\n",
       "313       Pay It Forward             99811\n",
       "1470      Bend It Like Beckham       98695\n",
       "Name: movie_id, dtype: int64"
      ]
     },
     "metadata": {},
     "output_type": "display_data"
    }
   ],
   "source": [
    "top_10 = (all_together.groupby(['movie_id', 'title']).movie_id\n",
    "                      .count()\n",
    "                      .sort_values(ascending=False)\n",
    "                      .head(10))\n",
    "display(top_10)"
   ]
  },
  {
   "cell_type": "markdown",
   "metadata": {
    "slideshow": {
     "slide_type": "slide"
    }
   },
   "source": [
    "#### Number of movies released by year"
   ]
  },
  {
   "cell_type": "code",
   "execution_count": 14,
   "metadata": {
    "collapsed": false
   },
   "outputs": [
    {
     "data": {
      "text/plain": [
       "year_of_release\n",
       "1896.0    1\n",
       "1909.0    1\n",
       "1914.0    2\n",
       "1915.0    5\n",
       "1916.0    4\n",
       "dtype: int64"
      ]
     },
     "metadata": {},
     "output_type": "display_data"
    }
   ],
   "source": [
    "by_year = movies.groupby(movies.year_of_release).size().sort_index()\n",
    "display(by_year.head())"
   ]
  },
  {
   "cell_type": "markdown",
   "metadata": {
    "slideshow": {
     "slide_type": "fragment"
    }
   },
   "source": [
    "**This doesn't say so much...**"
   ]
  },
  {
   "cell_type": "markdown",
   "metadata": {
    "slideshow": {
     "slide_type": "slide"
    }
   },
   "source": [
    "### One image is worth a thousand numbers...\n",
    "\n",
    "**Matplotlib**\n",
    "\n",
    "* Most used package for 2D plots in Python\n",
    "* Syntax mode similar to Matlab \n",
    "* Graphs can be included in the notebook\n",
    "* Integration with Pandas\n",
    "\n",
    "Apart from Matplotlib exists others like **bokeh**, **seaborn** and much more..."
   ]
  },
  {
   "cell_type": "markdown",
   "metadata": {
    "slideshow": {
     "slide_type": "slide"
    }
   },
   "source": [
    "#### Number of movies released by year"
   ]
  },
  {
   "cell_type": "code",
   "execution_count": 15,
   "metadata": {
    "collapsed": false
   },
   "outputs": [
    {
     "data": {
      "image/png": "[encoded data removed]",
      "text/plain": [
       "<matplotlib.figure.Figure at 0x7f7163d4c828>"
      ]
     },
     "metadata": {},
     "output_type": "display_data"
    }
   ],
   "source": [
    "%matplotlib inline\n",
    "import matplotlib\n",
    "# seaborn import change the style\n",
    "import seaborn as sns\n",
    "# default size for graphs\n",
    "from matplotlib.pylab import rcParams\n",
    "rcParams['figure.figsize'] = 15, 4\n",
    "\n",
    "by_year.plot();"
   ]
  },
  {
   "cell_type": "markdown",
   "metadata": {
    "slideshow": {
     "slide_type": "slide"
    }
   },
   "source": [
    "#### Movies and votes"
   ]
  },
  {
   "cell_type": "markdown",
   "metadata": {
    "collapsed": false
   },
   "source": [
    "stars = pd.crosstab([all_together.movie_id, all_together.title], \n",
    "                    all_together.stars)\n",
    "stars.columns = list(map(str, stars))\n",
    "stars.head()"
   ]
  },
  {
   "cell_type": "markdown",
   "metadata": {
    "slideshow": {
     "slide_type": "slide"
    }
   },
   "source": [
    "#### Expresed in percentage... (normalized)"
   ]
  },
  {
   "cell_type": "code",
   "execution_count": 17,
   "metadata": {
    "collapsed": false
   },
   "outputs": [
    {
     "data": {
      "text/html": [
       "<div>\n",
       "<table border=\"1\" class=\"dataframe\">\n",
       "  <thead>\n",
       "    <tr style=\"text-align: right;\">\n",
       "      <th></th>\n",
       "      <th></th>\n",
       "      <th>1</th>\n",
       "      <th>2</th>\n",
       "      <th>3</th>\n",
       "      <th>4</th>\n",
       "      <th>5</th>\n",
       "    </tr>\n",
       "    <tr>\n",
       "      <th>movie_id</th>\n",
       "      <th>title</th>\n",
       "      <th></th>\n",
       "      <th></th>\n",
       "      <th></th>\n",
       "      <th></th>\n",
       "      <th></th>\n",
       "    </tr>\n",
       "  </thead>\n",
       "  <tbody>\n",
       "    <tr>\n",
       "      <th>15</th>\n",
       "      <th>Neil Diamond: Greatest Hits Live</th>\n",
       "      <td>0.103806</td>\n",
       "      <td>0.121107</td>\n",
       "      <td>0.304498</td>\n",
       "      <td>0.332180</td>\n",
       "      <td>0.138408</td>\n",
       "    </tr>\n",
       "    <tr>\n",
       "      <th>30</th>\n",
       "      <th>Something's Gotta Give</th>\n",
       "      <td>0.021577</td>\n",
       "      <td>0.064132</td>\n",
       "      <td>0.266198</td>\n",
       "      <td>0.427068</td>\n",
       "      <td>0.221025</td>\n",
       "    </tr>\n",
       "    <tr>\n",
       "      <th>41</th>\n",
       "      <th>Horror Vision</th>\n",
       "      <td>0.532609</td>\n",
       "      <td>0.326087</td>\n",
       "      <td>0.130435</td>\n",
       "      <td>0.000000</td>\n",
       "      <td>0.010870</td>\n",
       "    </tr>\n",
       "    <tr>\n",
       "      <th>59</th>\n",
       "      <th>Sex and the Beauties</th>\n",
       "      <td>0.137931</td>\n",
       "      <td>0.211823</td>\n",
       "      <td>0.438424</td>\n",
       "      <td>0.147783</td>\n",
       "      <td>0.064039</td>\n",
       "    </tr>\n",
       "    <tr>\n",
       "      <th>60</th>\n",
       "      <th>The Libertine</th>\n",
       "      <td>0.336735</td>\n",
       "      <td>0.323129</td>\n",
       "      <td>0.224490</td>\n",
       "      <td>0.081633</td>\n",
       "      <td>0.034014</td>\n",
       "    </tr>\n",
       "  </tbody>\n",
       "</table>\n",
       "</div>"
      ],
      "text/plain": [
       "                                                  1         2         3  \\\n",
       "movie_id title                                                            \n",
       "15       Neil Diamond: Greatest Hits Live  0.103806  0.121107  0.304498   \n",
       "30       Something's Gotta Give            0.021577  0.064132  0.266198   \n",
       "41       Horror Vision                     0.532609  0.326087  0.130435   \n",
       "59       Sex and the Beauties              0.137931  0.211823  0.438424   \n",
       "60       The Libertine                     0.336735  0.323129  0.224490   \n",
       "\n",
       "                                                  4         5  \n",
       "movie_id title                                                 \n",
       "15       Neil Diamond: Greatest Hits Live  0.332180  0.138408  \n",
       "30       Something's Gotta Give            0.427068  0.221025  \n",
       "41       Horror Vision                     0.000000  0.010870  \n",
       "59       Sex and the Beauties              0.147783  0.064039  \n",
       "60       The Libertine                     0.081633  0.034014  "
      ]
     },
     "execution_count": 17,
     "metadata": {},
     "output_type": "execute_result"
    }
   ],
   "source": [
    "normalized = stars.div(stars.sum(axis=1), axis=0)\n",
    "normalized.head()"
   ]
  },
  {
   "cell_type": "markdown",
   "metadata": {
    "slideshow": {
     "slide_type": "fragment"
    }
   },
   "source": [
    "### How we can separate the goods and the bads?"
   ]
  },
  {
   "cell_type": "markdown",
   "metadata": {
    "slideshow": {
     "slide_type": "slide"
    }
   },
   "source": [
    "### sklearn (Machine learning in Python)\n",
    "\n",
    "* Have almost everything related to machine learning in Python\n",
    " * Preprocessing\n",
    " * Clasification y Regression\n",
    " * Clustering\n",
    " * Dimentionality reduction\n",
    " * Metrics\n",
    "\n",
    "* Build over NumPy, SciPy y matplotlib"
   ]
  },
  {
   "cell_type": "markdown",
   "metadata": {
    "slideshow": {
     "slide_type": "slide"
    }
   },
   "source": [
    "### How we can separate the goods and the bads?\n"
   ]
  },
  {
   "cell_type": "code",
   "execution_count": 18,
   "metadata": {
    "collapsed": false
   },
   "outputs": [
    {
     "data": {
      "text/plain": [
       "array([2, 1, 0, 2, 0], dtype=int32)"
      ]
     },
     "metadata": {},
     "output_type": "display_data"
    },
    {
     "data": {
      "text/html": [
       "<div>\n",
       "<table border=\"1\" class=\"dataframe\">\n",
       "  <thead>\n",
       "    <tr style=\"text-align: right;\">\n",
       "      <th></th>\n",
       "      <th></th>\n",
       "      <th>1</th>\n",
       "      <th>2</th>\n",
       "      <th>3</th>\n",
       "      <th>4</th>\n",
       "      <th>5</th>\n",
       "    </tr>\n",
       "    <tr>\n",
       "      <th>movie_id</th>\n",
       "      <th>title</th>\n",
       "      <th></th>\n",
       "      <th></th>\n",
       "      <th></th>\n",
       "      <th></th>\n",
       "      <th></th>\n",
       "    </tr>\n",
       "  </thead>\n",
       "  <tbody>\n",
       "    <tr>\n",
       "      <th>15</th>\n",
       "      <th>Neil Diamond: Greatest Hits Live</th>\n",
       "      <td>0.103806</td>\n",
       "      <td>0.121107</td>\n",
       "      <td>0.304498</td>\n",
       "      <td>0.332180</td>\n",
       "      <td>0.138408</td>\n",
       "    </tr>\n",
       "    <tr>\n",
       "      <th>30</th>\n",
       "      <th>Something's Gotta Give</th>\n",
       "      <td>0.021577</td>\n",
       "      <td>0.064132</td>\n",
       "      <td>0.266198</td>\n",
       "      <td>0.427068</td>\n",
       "      <td>0.221025</td>\n",
       "    </tr>\n",
       "    <tr>\n",
       "      <th>41</th>\n",
       "      <th>Horror Vision</th>\n",
       "      <td>0.532609</td>\n",
       "      <td>0.326087</td>\n",
       "      <td>0.130435</td>\n",
       "      <td>0.000000</td>\n",
       "      <td>0.010870</td>\n",
       "    </tr>\n",
       "    <tr>\n",
       "      <th>59</th>\n",
       "      <th>Sex and the Beauties</th>\n",
       "      <td>0.137931</td>\n",
       "      <td>0.211823</td>\n",
       "      <td>0.438424</td>\n",
       "      <td>0.147783</td>\n",
       "      <td>0.064039</td>\n",
       "    </tr>\n",
       "    <tr>\n",
       "      <th>60</th>\n",
       "      <th>The Libertine</th>\n",
       "      <td>0.336735</td>\n",
       "      <td>0.323129</td>\n",
       "      <td>0.224490</td>\n",
       "      <td>0.081633</td>\n",
       "      <td>0.034014</td>\n",
       "    </tr>\n",
       "  </tbody>\n",
       "</table>\n",
       "</div>"
      ],
      "text/plain": [
       "                                                  1         2         3  \\\n",
       "movie_id title                                                            \n",
       "15       Neil Diamond: Greatest Hits Live  0.103806  0.121107  0.304498   \n",
       "30       Something's Gotta Give            0.021577  0.064132  0.266198   \n",
       "41       Horror Vision                     0.532609  0.326087  0.130435   \n",
       "59       Sex and the Beauties              0.137931  0.211823  0.438424   \n",
       "60       The Libertine                     0.336735  0.323129  0.224490   \n",
       "\n",
       "                                                  4         5  \n",
       "movie_id title                                                 \n",
       "15       Neil Diamond: Greatest Hits Live  0.332180  0.138408  \n",
       "30       Something's Gotta Give            0.427068  0.221025  \n",
       "41       Horror Vision                     0.000000  0.010870  \n",
       "59       Sex and the Beauties              0.147783  0.064039  \n",
       "60       The Libertine                     0.081633  0.034014  "
      ]
     },
     "metadata": {},
     "output_type": "display_data"
    }
   ],
   "source": [
    "from sklearn.cluster import KMeans\n",
    "model = KMeans(3, random_state=1) # 3 groups, random's seed fixed in this examples\n",
    "model.fit(normalized)\n",
    "labels = model.predict(normalized)\n",
    "display(labels[:5])\n",
    "display(normalized[:5])"
   ]
  },
  {
   "cell_type": "code",
   "execution_count": 19,
   "metadata": {
    "collapsed": false,
    "slideshow": {
     "slide_type": "slide"
    }
   },
   "outputs": [
    {
     "data": {
      "text/html": [
       "<div>\n",
       "<table border=\"1\" class=\"dataframe\">\n",
       "  <thead>\n",
       "    <tr style=\"text-align: right;\">\n",
       "      <th></th>\n",
       "      <th></th>\n",
       "      <th>1</th>\n",
       "      <th>2</th>\n",
       "      <th>3</th>\n",
       "      <th>4</th>\n",
       "      <th>5</th>\n",
       "      <th>group</th>\n",
       "    </tr>\n",
       "    <tr>\n",
       "      <th>movie_id</th>\n",
       "      <th>title</th>\n",
       "      <th></th>\n",
       "      <th></th>\n",
       "      <th></th>\n",
       "      <th></th>\n",
       "      <th></th>\n",
       "      <th></th>\n",
       "    </tr>\n",
       "  </thead>\n",
       "  <tbody>\n",
       "    <tr>\n",
       "      <th>15</th>\n",
       "      <th>Neil Diamond: Greatest Hits Live</th>\n",
       "      <td>0.103806</td>\n",
       "      <td>0.121107</td>\n",
       "      <td>0.304498</td>\n",
       "      <td>0.332180</td>\n",
       "      <td>0.138408</td>\n",
       "      <td>Neutral</td>\n",
       "    </tr>\n",
       "    <tr>\n",
       "      <th>30</th>\n",
       "      <th>Something's Gotta Give</th>\n",
       "      <td>0.021577</td>\n",
       "      <td>0.064132</td>\n",
       "      <td>0.266198</td>\n",
       "      <td>0.427068</td>\n",
       "      <td>0.221025</td>\n",
       "      <td>Good</td>\n",
       "    </tr>\n",
       "    <tr>\n",
       "      <th>41</th>\n",
       "      <th>Horror Vision</th>\n",
       "      <td>0.532609</td>\n",
       "      <td>0.326087</td>\n",
       "      <td>0.130435</td>\n",
       "      <td>0.000000</td>\n",
       "      <td>0.010870</td>\n",
       "      <td>Bad</td>\n",
       "    </tr>\n",
       "    <tr>\n",
       "      <th>59</th>\n",
       "      <th>Sex and the Beauties</th>\n",
       "      <td>0.137931</td>\n",
       "      <td>0.211823</td>\n",
       "      <td>0.438424</td>\n",
       "      <td>0.147783</td>\n",
       "      <td>0.064039</td>\n",
       "      <td>Neutral</td>\n",
       "    </tr>\n",
       "    <tr>\n",
       "      <th>60</th>\n",
       "      <th>The Libertine</th>\n",
       "      <td>0.336735</td>\n",
       "      <td>0.323129</td>\n",
       "      <td>0.224490</td>\n",
       "      <td>0.081633</td>\n",
       "      <td>0.034014</td>\n",
       "      <td>Bad</td>\n",
       "    </tr>\n",
       "  </tbody>\n",
       "</table>\n",
       "</div>"
      ],
      "text/plain": [
       "                                                  1         2         3  \\\n",
       "movie_id title                                                            \n",
       "15       Neil Diamond: Greatest Hits Live  0.103806  0.121107  0.304498   \n",
       "30       Something's Gotta Give            0.021577  0.064132  0.266198   \n",
       "41       Horror Vision                     0.532609  0.326087  0.130435   \n",
       "59       Sex and the Beauties              0.137931  0.211823  0.438424   \n",
       "60       The Libertine                     0.336735  0.323129  0.224490   \n",
       "\n",
       "                                                  4         5    group  \n",
       "movie_id title                                                          \n",
       "15       Neil Diamond: Greatest Hits Live  0.332180  0.138408  Neutral  \n",
       "30       Something's Gotta Give            0.427068  0.221025     Good  \n",
       "41       Horror Vision                     0.000000  0.010870      Bad  \n",
       "59       Sex and the Beauties              0.147783  0.064039  Neutral  \n",
       "60       The Libertine                     0.081633  0.034014      Bad  "
      ]
     },
     "execution_count": 19,
     "metadata": {},
     "output_type": "execute_result"
    }
   ],
   "source": [
    "film_ratings = ['Bad', 'Good', 'Neutral']\n",
    "normalized['group'] = 'Bad'\n",
    "normalized.loc[labels==1, 'group'] = 'Good'\n",
    "normalized.loc[labels==2, 'group'] = 'Neutral'\n",
    "normalized.head()"
   ]
  },
  {
   "cell_type": "markdown",
   "metadata": {
    "slideshow": {
     "slide_type": "slide"
    }
   },
   "source": [
    "#### How we can show something that represents the groups?"
   ]
  },
  {
   "cell_type": "code",
   "execution_count": 20,
   "metadata": {
    "collapsed": false,
    "slideshow": {
     "slide_type": "fragment"
    }
   },
   "outputs": [
    {
     "data": {
      "image/png": "[encoded data removed]",
      "text/plain": [
       "<matplotlib.figure.Figure at 0x7f713a93d080>"
      ]
     },
     "metadata": {},
     "output_type": "display_data"
    }
   ],
   "source": [
    "import radar  # auxiliary  functi onality to make the graph\n",
    "\n",
    "df = pd.DataFrame(model.cluster_centers_)\n",
    "df.columns=[str(x+1) for x in range(5)]\n",
    "radar.plot_radar(df, df.columns, \n",
    "                 legends=[film_ratings[x] for x in df.index]) "
   ]
  },
  {
   "cell_type": "markdown",
   "metadata": {
    "slideshow": {
     "slide_type": "slide"
    }
   },
   "source": [
    "### What if we want to show not only the centers?"
   ]
  },
  {
   "cell_type": "code",
   "execution_count": 21,
   "metadata": {
    "collapsed": false,
    "scrolled": false,
    "slideshow": {
     "slide_type": "-"
    }
   },
   "outputs": [
    {
     "data": {
      "image/png": "[encoded data removed]",
      "text/plain": [
       "<matplotlib.figure.Figure at 0x7f713a92fd30>"
      ]
     },
     "metadata": {},
     "output_type": "display_data"
    }
   ],
   "source": [
    "d = normalized[:500].copy()\n",
    "d['color'] = 'g' \n",
    "d.loc[d.group=='Bad', 'color']  = 'r'\n",
    "d.loc[d.group=='Neutral', 'color'] = 'b'\n",
    "radar.plot_radar(d, titles=[str(x+1) for x in range(5)], colors=d.color, normalize=True, fill=False)"
   ]
  },
  {
   "cell_type": "markdown",
   "metadata": {
    "slideshow": {
     "slide_type": "fragment"
    }
   },
   "source": [
    "**Doesn't make much sense...** "
   ]
  },
  {
   "cell_type": "markdown",
   "metadata": {
    "slideshow": {
     "slide_type": "slide"
    }
   },
   "source": [
    "#### What happens if we keep only with the qualification that have more quantity of votes "
   ]
  },
  {
   "cell_type": "code",
   "execution_count": 22,
   "metadata": {
    "collapsed": false
   },
   "outputs": [
    {
     "data": {
      "text/html": [
       "<div>\n",
       "<table border=\"1\" class=\"dataframe\">\n",
       "  <thead>\n",
       "    <tr style=\"text-align: right;\">\n",
       "      <th></th>\n",
       "      <th></th>\n",
       "      <th>1</th>\n",
       "      <th>2</th>\n",
       "      <th>3</th>\n",
       "      <th>4</th>\n",
       "      <th>5</th>\n",
       "      <th>group</th>\n",
       "    </tr>\n",
       "    <tr>\n",
       "      <th>movie_id</th>\n",
       "      <th>title</th>\n",
       "      <th></th>\n",
       "      <th></th>\n",
       "      <th></th>\n",
       "      <th></th>\n",
       "      <th></th>\n",
       "      <th></th>\n",
       "    </tr>\n",
       "  </thead>\n",
       "  <tbody>\n",
       "    <tr>\n",
       "      <th>15</th>\n",
       "      <th>Neil Diamond: Greatest Hits Live</th>\n",
       "      <td>0.103806</td>\n",
       "      <td>0.121107</td>\n",
       "      <td>0.304498</td>\n",
       "      <td>0.332180</td>\n",
       "      <td>0.138408</td>\n",
       "      <td>Neutral</td>\n",
       "    </tr>\n",
       "    <tr>\n",
       "      <th>30</th>\n",
       "      <th>Something's Gotta Give</th>\n",
       "      <td>0.021577</td>\n",
       "      <td>0.064132</td>\n",
       "      <td>0.266198</td>\n",
       "      <td>0.427068</td>\n",
       "      <td>0.221025</td>\n",
       "      <td>Good</td>\n",
       "    </tr>\n",
       "    <tr>\n",
       "      <th>41</th>\n",
       "      <th>Horror Vision</th>\n",
       "      <td>0.532609</td>\n",
       "      <td>0.326087</td>\n",
       "      <td>0.130435</td>\n",
       "      <td>0.000000</td>\n",
       "      <td>0.010870</td>\n",
       "      <td>Bad</td>\n",
       "    </tr>\n",
       "    <tr>\n",
       "      <th>59</th>\n",
       "      <th>Sex and the Beauties</th>\n",
       "      <td>0.137931</td>\n",
       "      <td>0.211823</td>\n",
       "      <td>0.438424</td>\n",
       "      <td>0.147783</td>\n",
       "      <td>0.064039</td>\n",
       "      <td>Neutral</td>\n",
       "    </tr>\n",
       "    <tr>\n",
       "      <th>60</th>\n",
       "      <th>The Libertine</th>\n",
       "      <td>0.336735</td>\n",
       "      <td>0.323129</td>\n",
       "      <td>0.224490</td>\n",
       "      <td>0.081633</td>\n",
       "      <td>0.034014</td>\n",
       "      <td>Bad</td>\n",
       "    </tr>\n",
       "  </tbody>\n",
       "</table>\n",
       "</div>"
      ],
      "text/plain": [
       "                                                  1         2         3  \\\n",
       "movie_id title                                                            \n",
       "15       Neil Diamond: Greatest Hits Live  0.103806  0.121107  0.304498   \n",
       "30       Something's Gotta Give            0.021577  0.064132  0.266198   \n",
       "41       Horror Vision                     0.532609  0.326087  0.130435   \n",
       "59       Sex and the Beauties              0.137931  0.211823  0.438424   \n",
       "60       The Libertine                     0.336735  0.323129  0.224490   \n",
       "\n",
       "                                                  4         5    group  \n",
       "movie_id title                                                          \n",
       "15       Neil Diamond: Greatest Hits Live  0.332180  0.138408  Neutral  \n",
       "30       Something's Gotta Give            0.427068  0.221025     Good  \n",
       "41       Horror Vision                     0.000000  0.010870      Bad  \n",
       "59       Sex and the Beauties              0.147783  0.064039  Neutral  \n",
       "60       The Libertine                     0.081633  0.034014      Bad  "
      ]
     },
     "execution_count": 22,
     "metadata": {},
     "output_type": "execute_result"
    }
   ],
   "source": [
    "normalized.head()"
   ]
  },
  {
   "cell_type": "code",
   "execution_count": 23,
   "metadata": {
    "collapsed": false
   },
   "outputs": [
    {
     "data": {
      "text/plain": [
       "movie_id  title                           \n",
       "15        Neil Diamond: Greatest Hits Live    4\n",
       "30        Something's Gotta Give              4\n",
       "41        Horror Vision                       1\n",
       "59        Sex and the Beauties                3\n",
       "60        The Libertine                       1\n",
       "dtype: object"
      ]
     },
     "execution_count": 23,
     "metadata": {},
     "output_type": "execute_result"
    }
   ],
   "source": [
    "s = normalized.loc[:, '1':'5'].idxmax(axis=1)\n",
    "s.head()"
   ]
  },
  {
   "cell_type": "code",
   "execution_count": 24,
   "metadata": {
    "collapsed": false
   },
   "outputs": [
    {
     "data": {
      "text/plain": [
       "movie_id  title                           \n",
       "15        Neil Diamond: Greatest Hits Live    0.332180\n",
       "30        Something's Gotta Give              0.427068\n",
       "41        Horror Vision                       0.532609\n",
       "59        Sex and the Beauties                0.438424\n",
       "60        The Libertine                       0.336735\n",
       "dtype: float64"
      ]
     },
     "execution_count": 24,
     "metadata": {},
     "output_type": "execute_result"
    }
   ],
   "source": [
    "v = normalized.loc[:, '1':'5'].max(axis=1)\n",
    "v.head()"
   ]
  },
  {
   "cell_type": "code",
   "execution_count": 25,
   "metadata": {
    "collapsed": false,
    "scrolled": true,
    "slideshow": {
     "slide_type": "slide"
    }
   },
   "outputs": [
    {
     "data": {
      "image/png": "[encoded data removed]",
      "text/plain": [
       "<matplotlib.figure.Figure at 0x7f713a60ac50>"
      ]
     },
     "metadata": {},
     "output_type": "display_data"
    }
   ],
   "source": [
    "x = (s.values.astype(np.int16) +\n",
    "     np.random.normal(scale=0.15, size=len(normalized)))\n",
    "df = pd.DataFrame({'star': x, \n",
    "                   'value': v.values,\n",
    "                   'group': normalized['group']})\n",
    "\n",
    "ax = df[df.group=='Bad'].plot.scatter(x='star', y='value', color='r', label='Bad', figsize=(12, 6), alpha=0.6)\n",
    "df[df.group=='Neutral'].plot.scatter(x='star', y='value', color='b', label='Neutral', ax=ax, alpha=0.6)\n",
    "df[df.group=='Good'].plot.scatter(x='star', y='value', color='g', label='Good', ax=ax, alpha=0.6);"
   ]
  },
  {
   "cell_type": "markdown",
   "metadata": {
    "slideshow": {
     "slide_type": "slide"
    }
   },
   "source": [
    "### Conclusions\n",
    "\n",
    "* Python is a well suite language to do science\n",
    "* Jupyter notebook, Pandas and Matplotlib are great tools to make data exploratory \n",
    "* If we can introduce ourselves to Machine Learning, take a look on sklearn (and AstroML for astronomous related things)"
   ]
  },
  {
   "cell_type": "markdown",
   "metadata": {
    "slideshow": {
     "slide_type": "slide"
    }
   },
   "source": [
    "### Thanks! Questions?\n",
    "\n",
    "If you want to keep in touch:\n",
    "\n",
    "* arielrossanigo@gmail.com\n",
    "* @arielrossanigo\n",
    "* https://github.com/arielrossanigo"
   ]
  }
 ],
 "metadata": {
  "celltoolbar": "Slideshow",
  "kernelspec": {
   "display_name": "Python 3",
   "language": "python",
   "name": "python3"
  },
  "language_info": {
   "codemirror_mode": {
    "name": "ipython",
    "version": 3
   },
   "file_extension": ".py",
   "mimetype": "text/x-python",
   "name": "python",
   "nbconvert_exporter": "python",
   "pygments_lexer": "ipython3",
   "version": "3.5.1+"
  },
  "widgets": {
   "state": {},
   "version": "1.1.2"
  }
 },
 "nbformat": 4,
 "nbformat_minor": 0
}
