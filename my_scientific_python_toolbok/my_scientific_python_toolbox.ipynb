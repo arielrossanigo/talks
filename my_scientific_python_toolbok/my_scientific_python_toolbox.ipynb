{
 "cells": [
  {
   "cell_type": "markdown",
   "metadata": {
    "slideshow": {
     "slide_type": "slide"
    }
   },
   "source": [
    "# (My) Scientific Python Toolbox\n",
    "\n",
    "\n",
    "\n",
    "\n",
    "\n",
    "\n",
    "\n",
    "\n",
    "**Ariel Rossanigo**\n"
   ]
  },
  {
   "cell_type": "markdown",
   "metadata": {
    "slideshow": {
     "slide_type": "slide"
    }
   },
   "source": [
    "### About me\n",
    "\n",
    "* Ariel Rossanigo\n",
    "* Artificial Intelligence Professor at UCSE-DAR\n",
    "* Developer, Data Scientist\n",
    "\n"
   ]
  },
  {
   "cell_type": "markdown",
   "metadata": {
    "slideshow": {
     "slide_type": "slide"
    }
   },
   "source": [
    "### Motivation\n",
    "\n",
    "*Often people ask me about what I do and immmediatly the conversation turns to questions like:*\n",
    "\n",
    "* Python? It's helpful for that?\n",
    "* Isn't slowly?\n",
    "* Why you don't use [put some knowed name here]?\n",
    "* **What it's needed to do that?**\n"
   ]
  },
  {
   "cell_type": "markdown",
   "metadata": {
    "slideshow": {
     "slide_type": "slide"
    }
   },
   "source": [
    "### Goals\n",
    "\n",
    "* Share why Python and desmistify the **scientific** side\n",
    "* Show the tools I use with some examples\n"
   ]
  },
  {
   "cell_type": "markdown",
   "metadata": {
    "slideshow": {
     "slide_type": "slide"
    }
   },
   "source": [
    "### Why scientific?\n",
    "\n",
    "* These are tools commonly related to scientific projects, but...\n",
    "* **Everyone can take advantage of them**"
   ]
  },
  {
   "cell_type": "markdown",
   "metadata": {
    "slideshow": {
     "slide_type": "slide"
    }
   },
   "source": [
    "#### What a scientific do?\n",
    "\n",
    "* Process and visualize data\n",
    "* Propose hypotheses and models\n",
    "* Make predictions with the model and validate the hypotheses\n",
    "* Communicate results"
   ]
  },
  {
   "cell_type": "markdown",
   "metadata": {
    "slideshow": {
     "slide_type": "slide"
    }
   },
   "source": [
    "#### What a scientific needs?\n",
    "\n",
    "* An easy programming language...\n",
    "* With tools that simplify his job...\n",
    "* Fast to develop and execute...\n",
    "* Able to be deployed in production..."
   ]
  },
  {
   "cell_type": "markdown",
   "metadata": {
    "slideshow": {
     "slide_type": "slide"
    }
   },
   "source": [
    "### Why Python?\n",
    "\n",
    "* It's the language I know since many years...\n"
   ]
  },
  {
   "cell_type": "markdown",
   "metadata": {
    "slideshow": {
     "slide_type": "slide"
    }
   },
   "source": [
    "### Why Python?\n",
    "\n",
    "* It's the language I know since many years... and nothing made me change the election...\n",
    "* Enables you to make almost everything... \n",
    "* Open source and free - Licence can be summarize as *Do whatever you want*\n",
    "* **Lot of scientific tools** \n",
    "* **Enables to prototype models and deploy these in production environments**\n",
    "* It's **slow** but every tool for heavy duty it's implemented in something faster...\n"
   ]
  },
  {
   "cell_type": "markdown",
   "metadata": {
    "slideshow": {
     "slide_type": "slide"
    }
   },
   "source": [
    "## (My) Scientific Python Toolbox\n",
    "\n",
    "* IPython + **Jupyter notebook** + **RISE**  \n",
    "* Numpy +  SciPy                  \n",
    "* **Pandas**     \n",
    "* bokeh          \n",
    "* **Matplotlib** \n",
    "* seaborn        \n",
    "* **sklearn**    \n",
    "* keras          \n",
    "* tensorflow     \n",
    "\n",
    "*All these apart from the normal: virtualenv, pip, git, etc...*"
   ]
  },
  {
   "cell_type": "markdown",
   "metadata": {
    "slideshow": {
     "slide_type": "slide"
    }
   },
   "source": [
    "#### IPython \n",
    "\n",
    "* python interactive interpreter with steroids\n",
    "* kernel for Jupyter notebook\n",
    "\n",
    "#### Jupyter notebook\n",
    "\n",
    "* Project Jupyter was born out of the IPython Project in 2014 as it evolved to support interactive data science and scientific computing across all programming languages.\n",
    "\n",
    "* The notebook it's an interactive interpreter with a web interface that it's composed as a secuence of cells, where everyone can be of different types, for example: code, videos, images, markdown, graphs... even latex...\n",
    "\n",
    "$$c = \\sqrt{a^2 + b^2}$$\n"
   ]
  },
  {
   "cell_type": "markdown",
   "metadata": {
    "slideshow": {
     "slide_type": "slide"
    }
   },
   "source": [
    "#### RISE (Reveal.js Ipython Slideshow Extension)\n",
    "\n",
    "* Notebook extension to make presentations (like this one)\n",
    "* The presentation is executable"
   ]
  },
  {
   "cell_type": "code",
   "execution_count": null,
   "metadata": {},
   "outputs": [],
   "source": [
    "for x in range(2):\n",
    "    print('Hola a todas!')"
   ]
  },
  {
   "cell_type": "markdown",
   "metadata": {
    "slideshow": {
     "slide_type": "slide"
    }
   },
   "source": [
    "### Numpy\n",
    "\n",
    "* Multidimensional arrays implemented in an eficient way\n",
    "* It's the cornerstone of almost every scientific Python tool\n",
    "\n",
    "### SciPy library\n",
    "\n",
    "* Provides many user-friendly and efficient numerical routines for different topics, ie:\n",
    "\n",
    " * signal: signal processing\n",
    " * stats: probability distributions and statistical functions.\n",
    " * sparse: 2-D sparse matrix package\n",
    " * ...\n"
   ]
  },
  {
   "cell_type": "markdown",
   "metadata": {
    "slideshow": {
     "slide_type": "slide"
    }
   },
   "source": [
    "### Pandas (Python Data Analysis Library)\n",
    "\n",
    "* The *de facto* tool to work with data in Python\n",
    "* Use numpy behind the scenes but...\n",
    " * propose cooler abstractions like Series and Dataframes\n",
    " * allows data manipulation in a SQL way\n",
    "\n",
    "Let's see what we can do with the tools showed so far with an example...\n"
   ]
  },
  {
   "cell_type": "markdown",
   "metadata": {
    "slideshow": {
     "slide_type": "slide"
    }
   },
   "source": [
    "### The example: Netflix prize (2009)\n",
    "\n",
    "* 1MM USD for the winner\n",
    "* 17.770 movies (these are listed in a text file named movie_titles.txt)\n",
    "* 480.000 users\n",
    "* **100.480.507 votations** distributed in 17.770 text files\n",
    "\n",
    "#### Challenge goal\n",
    "\n",
    "*Create a model to predict user predictions for some movies not in data*\n",
    "\n",
    "#### Our goal\n",
    "\n",
    "*Show the things we can do with the tools previously showed*"
   ]
  },
  {
   "cell_type": "markdown",
   "metadata": {
    "slideshow": {
     "slide_type": "slide"
    }
   },
   "source": [
    "**Reading a csv**"
   ]
  },
  {
   "cell_type": "code",
   "execution_count": null,
   "metadata": {
    "slideshow": {
     "slide_type": "-"
    }
   },
   "outputs": [],
   "source": [
    "from IPython.display import display\n",
    "import numpy as np\n",
    "import pandas as pd\n",
    "from utils import data_path # this is a function to simplify path management\n",
    "\n",
    "movies = pd.read_csv(data_path('movie_titles.txt'), \n",
    "                     names=['movie_id', 'year_of_release', 'title'], \n",
    "                     index_col='movie_id',\n",
    "                     encoding='latin-1')\n",
    "\n",
    "print(\"Number of movies: {:,}\".format(len(movies)))\n",
    "movies.head()"
   ]
  },
  {
   "cell_type": "markdown",
   "metadata": {
    "slideshow": {
     "slide_type": "slide"
    }
   },
   "source": [
    "**Some operations with Pandas**"
   ]
  },
  {
   "cell_type": "code",
   "execution_count": null,
   "metadata": {},
   "outputs": [],
   "source": [
    "# aggregations \n",
    "first_year = movies.year_of_release.min()\n",
    "print(\"First year a release was made: {}\".format(first_year))\n",
    "\n",
    "# filtering the movies that were released that year\n",
    "(movies[movies.year_of_release==first_year])\n",
    "\n",
    "# movies from this millennium that have Monty in their name\n",
    "(movies[(movies.year_of_release >= 2000) & \n",
    "               (movies.title.str.contains('Monty'))])"
   ]
  },
  {
   "cell_type": "code",
   "execution_count": null,
   "metadata": {
    "slideshow": {
     "slide_type": "slide"
    }
   },
   "outputs": [],
   "source": [
    "# What king of magic do that filter ??...\n",
    "# display(movies[(movies.year_of_release >= 2000) & (movies.title.str.contains('Monty'))])\n",
    "\n",
    "display((movies.year_of_release >= 2000).head())"
   ]
  },
  {
   "cell_type": "markdown",
   "metadata": {
    "slideshow": {
     "slide_type": "slide"
    }
   },
   "source": [
    "### Reading some votes from a pickle"
   ]
  },
  {
   "cell_type": "code",
   "execution_count": null,
   "metadata": {},
   "outputs": [],
   "source": [
    "all_ratings = pd.read_pickle(data_path('ratings.pkl'))\n",
    "print('number of ratings: {:,}'.format(len(all_ratings)))\n",
    "all_ratings.head()"
   ]
  },
  {
   "cell_type": "markdown",
   "metadata": {
    "slideshow": {
     "slide_type": "slide"
    }
   },
   "source": [
    "#### 5 MM registers... quickly enough....\n",
    "\n",
    "####  What about the RAM consumption?"
   ]
  },
  {
   "cell_type": "code",
   "execution_count": null,
   "metadata": {},
   "outputs": [],
   "source": [
    "all_ratings.info()"
   ]
  },
  {
   "cell_type": "markdown",
   "metadata": {
    "slideshow": {
     "slide_type": "slide"
    }
   },
   "source": [
    "### What happens if we want to show movies data along with votes?"
   ]
  },
  {
   "cell_type": "code",
   "execution_count": null,
   "metadata": {},
   "outputs": [],
   "source": [
    "# something like a SQL join\n",
    "all_together = pd.merge(movies, all_ratings, left_index=True, \n",
    "                        right_on='movie_id')\n",
    "\n",
    "print('Number of ratings: {:,}'.format(len(all_together)))\n",
    "display(all_together.head())"
   ]
  },
  {
   "cell_type": "markdown",
   "metadata": {
    "slideshow": {
     "slide_type": "slide"
    }
   },
   "source": [
    "#### Top 10 Most voted movies"
   ]
  },
  {
   "cell_type": "code",
   "execution_count": null,
   "metadata": {},
   "outputs": [],
   "source": [
    "top_10 = (all_together.groupby(['movie_id', 'title']).movie_id\n",
    "                      .count()\n",
    "                      .sort_values(ascending=False)\n",
    "                      .head(10))\n",
    "display(top_10)"
   ]
  },
  {
   "cell_type": "markdown",
   "metadata": {
    "slideshow": {
     "slide_type": "slide"
    }
   },
   "source": [
    "#### Number of movies released by year"
   ]
  },
  {
   "cell_type": "code",
   "execution_count": null,
   "metadata": {},
   "outputs": [],
   "source": [
    "by_year = movies.groupby(movies.year_of_release).size().sort_index()\n",
    "display(by_year.head())"
   ]
  },
  {
   "cell_type": "markdown",
   "metadata": {
    "slideshow": {
     "slide_type": "fragment"
    }
   },
   "source": [
    "**This doesn't say so much...**"
   ]
  },
  {
   "cell_type": "markdown",
   "metadata": {
    "slideshow": {
     "slide_type": "slide"
    }
   },
   "source": [
    "### One image is worth a thousand numbers...\n",
    "\n",
    "**Matplotlib**\n",
    "\n",
    "* Most used package for 2D plots in Python\n",
    "* Syntax mode similar to Matlab \n",
    "* Graphs can be included in the notebook\n",
    "* Integration with Pandas\n",
    "\n",
    "Apart from Matplotlib exists others like **bokeh**, **seaborn** and much more..."
   ]
  },
  {
   "cell_type": "markdown",
   "metadata": {
    "slideshow": {
     "slide_type": "slide"
    }
   },
   "source": [
    "#### Number of movies released by year"
   ]
  },
  {
   "cell_type": "code",
   "execution_count": null,
   "metadata": {},
   "outputs": [],
   "source": [
    "%matplotlib inline\n",
    "import matplotlib\n",
    "# seaborn import change the style\n",
    "import seaborn as sns\n",
    "# default size for graphs\n",
    "from matplotlib.pylab import rcParams\n",
    "rcParams['figure.figsize'] = 15, 4\n",
    "\n",
    "by_year.plot();"
   ]
  },
  {
   "cell_type": "markdown",
   "metadata": {
    "slideshow": {
     "slide_type": "slide"
    }
   },
   "source": [
    "#### Movies and votes"
   ]
  },
  {
   "cell_type": "code",
   "execution_count": null,
   "metadata": {},
   "outputs": [],
   "source": [
    "stars = pd.crosstab([all_together.movie_id, all_together.title], \n",
    "                    all_together.stars)\n",
    "stars.columns = list(map(str, stars))\n",
    "stars.head()"
   ]
  },
  {
   "cell_type": "markdown",
   "metadata": {
    "slideshow": {
     "slide_type": "slide"
    }
   },
   "source": [
    "#### Expresed in percentage... (normalized)"
   ]
  },
  {
   "cell_type": "code",
   "execution_count": null,
   "metadata": {},
   "outputs": [],
   "source": [
    "normalized = stars.div(stars.sum(axis=1), axis=0)\n",
    "normalized.head()"
   ]
  },
  {
   "cell_type": "markdown",
   "metadata": {
    "slideshow": {
     "slide_type": "fragment"
    }
   },
   "source": [
    "### How we can separate the goods and the bads?"
   ]
  },
  {
   "cell_type": "markdown",
   "metadata": {
    "slideshow": {
     "slide_type": "slide"
    }
   },
   "source": [
    "### sklearn (Machine learning in Python)\n",
    "\n",
    "* Have almost everything related to machine learning in Python\n",
    " * Preprocessing\n",
    " * Clasification y Regression\n",
    " * Clustering\n",
    " * Dimentionality reduction\n",
    " * Metrics\n",
    "\n",
    "* Build over NumPy, SciPy y matplotlib"
   ]
  },
  {
   "cell_type": "markdown",
   "metadata": {
    "slideshow": {
     "slide_type": "slide"
    }
   },
   "source": [
    "### How we can separate the goods and the bads?\n"
   ]
  },
  {
   "cell_type": "code",
   "execution_count": null,
   "metadata": {},
   "outputs": [],
   "source": [
    "from sklearn.cluster import KMeans\n",
    "model = KMeans(3, random_state=1) # 3 groups, random's seed fixed in this examples\n",
    "model.fit(normalized)\n",
    "labels = model.predict(normalized)\n",
    "display(labels[:5])\n",
    "display(normalized[:5])"
   ]
  },
  {
   "cell_type": "code",
   "execution_count": null,
   "metadata": {
    "slideshow": {
     "slide_type": "slide"
    }
   },
   "outputs": [],
   "source": [
    "film_ratings = ['Bad', 'Good', 'Neutral']\n",
    "normalized['group'] = 'Bad'\n",
    "normalized.loc[labels==1, 'group'] = 'Good'\n",
    "normalized.loc[labels==2, 'group'] = 'Neutral'\n",
    "normalized.head()"
   ]
  },
  {
   "cell_type": "markdown",
   "metadata": {
    "slideshow": {
     "slide_type": "slide"
    }
   },
   "source": [
    "#### How we can show something that represents the groups?"
   ]
  },
  {
   "cell_type": "code",
   "execution_count": null,
   "metadata": {
    "slideshow": {
     "slide_type": "fragment"
    }
   },
   "outputs": [],
   "source": [
    "import radar  # auxiliary functionality to make the graph\n",
    "\n",
    "df = pd.DataFrame(model.cluster_centers_)\n",
    "df.columns=[str(x+1) for x in range(5)]\n",
    "radar.plot_radar(df, df.columns, legends=[film_ratings[x] for x in df.index]) "
   ]
  },
  {
   "cell_type": "markdown",
   "metadata": {
    "slideshow": {
     "slide_type": "slide"
    }
   },
   "source": [
    "### What if we want to show not only the centers?"
   ]
  },
  {
   "cell_type": "code",
   "execution_count": null,
   "metadata": {
    "scrolled": false,
    "slideshow": {
     "slide_type": "-"
    }
   },
   "outputs": [],
   "source": [
    "d = normalized[:500].copy()\n",
    "d['color'] = 'g' \n",
    "d.loc[d.group=='Bad', 'color']  = 'r'\n",
    "d.loc[d.group=='Neutral', 'color'] = 'b'\n",
    "radar.plot_radar(d, titles=[str(x+1) for x in range(5)], colors=d.color, normalize=True, fill=False)"
   ]
  },
  {
   "cell_type": "markdown",
   "metadata": {
    "slideshow": {
     "slide_type": "fragment"
    }
   },
   "source": [
    "**Doesn't make much sense...** "
   ]
  },
  {
   "cell_type": "markdown",
   "metadata": {
    "slideshow": {
     "slide_type": "slide"
    }
   },
   "source": [
    "#### What happens if we keep only with the qualification that have more quantity of votes "
   ]
  },
  {
   "cell_type": "code",
   "execution_count": null,
   "metadata": {},
   "outputs": [],
   "source": [
    "normalized.head()"
   ]
  },
  {
   "cell_type": "code",
   "execution_count": null,
   "metadata": {},
   "outputs": [],
   "source": [
    "s = normalized.loc[:, '1':'5'].idxmax(axis=1)\n",
    "s.head()"
   ]
  },
  {
   "cell_type": "code",
   "execution_count": null,
   "metadata": {},
   "outputs": [],
   "source": [
    "v = normalized.loc[:, '1':'5'].max(axis=1)\n",
    "v.head()"
   ]
  },
  {
   "cell_type": "code",
   "execution_count": null,
   "metadata": {
    "scrolled": true,
    "slideshow": {
     "slide_type": "slide"
    }
   },
   "outputs": [],
   "source": [
    "x = (s.values.astype(np.int16) +\n",
    "     np.random.normal(scale=0.15, size=len(normalized)))\n",
    "df = pd.DataFrame({'star': x, \n",
    "                   'value': v.values,\n",
    "                   'group': normalized['group']})\n",
    "\n",
    "ax = df[df.group=='Bad'].plot.scatter(x='star', y='value', color='r', label='Bad', figsize=(12, 6), alpha=0.6)\n",
    "df[df.group=='Neutral'].plot.scatter(x='star', y='value', color='b', label='Neutral', ax=ax, alpha=0.6)\n",
    "df[df.group=='Good'].plot.scatter(x='star', y='value', color='g', label='Good', ax=ax, alpha=0.6);"
   ]
  },
  {
   "cell_type": "markdown",
   "metadata": {
    "slideshow": {
     "slide_type": "slide"
    }
   },
   "source": [
    "### Conclusions\n",
    "\n",
    "* Python is a well suite language to do science\n",
    "* Jupyter notebook, Pandas and Matplotlib are great tools to make data exploratory \n",
    "* If you want to perform Machine Learning, take a look on sklearn"
   ]
  },
  {
   "cell_type": "markdown",
   "metadata": {
    "slideshow": {
     "slide_type": "slide"
    }
   },
   "source": [
    "### Thanks! Questions?\n",
    "\n",
    "\n",
    "<p><img src=\"../common/imgs/gmail-1162901_960_720.png\" width=\"20\" style=\"float: left;\" align=\"middle\"> arielrossanigo@gmail.com</p>\n",
    "\n",
    "<p><img src=\"../common/imgs/twitter-312464_960_720.png\" width=\"20\" style=\"float: left;\" align=\"middle\"> @arielrossanigo</p>\n",
    "\n",
    "<p><img src=\"../common/imgs/github-154769__340.png\" width=\"20\" style=\"float: left;\" align=\"middle\"> https://github.com/arielrossanigo</p>\n",
    "\n"
   ]
  }
 ],
 "metadata": {
  "celltoolbar": "Slideshow",
  "kernelspec": {
   "display_name": "Python 3",
   "language": "python",
   "name": "python3"
  },
  "language_info": {
   "codemirror_mode": {
    "name": "ipython",
    "version": 3
   },
   "file_extension": ".py",
   "mimetype": "text/x-python",
   "name": "python",
   "nbconvert_exporter": "python",
   "pygments_lexer": "ipython3",
   "version": "3.6.3"
  },
  "widgets": {
   "state": {},
   "version": "1.1.2"
  }
 },
 "nbformat": 4,
 "nbformat_minor": 1
}
